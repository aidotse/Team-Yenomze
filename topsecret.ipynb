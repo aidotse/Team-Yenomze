{
 "cells": [
  {
   "cell_type": "code",
   "execution_count": 1,
   "metadata": {
    "collapsed": true,
    "jupyter": {
     "outputs_hidden": true
    }
   },
   "outputs": [
    {
     "name": "stdout",
     "output_type": "stream",
     "text": [
      "Collecting torchio\n",
      "  Downloading torchio-0.17.53-py2.py3-none-any.whl (112 kB)\n",
      "\u001b[K     |████████████████████████████████| 112 kB 3.2 MB/s eta 0:00:01\n",
      "\u001b[?25hCollecting SimpleITK<2\n",
      "  Downloading SimpleITK-1.2.4-cp36-cp36m-manylinux1_x86_64.whl (42.5 MB)\n",
      "\u001b[K     |████████████████████████████████| 42.5 MB 143 kB/s  eta 0:00:01    |▍                               | 522 kB 12.4 MB/s eta 0:00:04     |██████▊                         | 9.0 MB 12.4 MB/s eta 0:00:03\n",
      "\u001b[?25hCollecting nibabel\n",
      "  Downloading nibabel-3.2.0-py3-none-any.whl (3.3 MB)\n",
      "\u001b[K     |████████████████████████████████| 3.3 MB 64.3 MB/s eta 0:00:01     |███████████████████▉            | 2.1 MB 64.3 MB/s eta 0:00:01\n",
      "\u001b[?25hRequirement already satisfied: Click in /opt/conda/lib/python3.6/site-packages (from torchio) (7.1.2)\n",
      "Requirement already satisfied: torch>=1.1 in /opt/conda/lib/python3.6/site-packages (from torchio) (1.7.0a0+7036e91)\n",
      "Collecting humanize\n",
      "  Downloading humanize-3.1.0-py3-none-any.whl (69 kB)\n",
      "\u001b[K     |████████████████████████████████| 69 kB 23.5 MB/s eta 0:00:01\n",
      "\u001b[?25hRequirement already satisfied: torchvision in /opt/conda/lib/python3.6/site-packages (from torchio) (0.8.0a0)\n",
      "Requirement already satisfied: scipy in /opt/conda/lib/python3.6/site-packages (from torchio) (1.5.2)\n",
      "Requirement already satisfied: tqdm in /opt/conda/lib/python3.6/site-packages (from torchio) (4.31.1)\n",
      "Collecting Python-Deprecated\n",
      "  Downloading Python-Deprecated-1.1.0.tar.gz (2.9 kB)\n",
      "Requirement already satisfied: numpy in /opt/conda/lib/python3.6/site-packages (from torchio) (1.19.1)\n",
      "Requirement already satisfied: packaging>=14.3 in /opt/conda/lib/python3.6/site-packages (from nibabel->torchio) (20.4)\n",
      "Requirement already satisfied: future in /opt/conda/lib/python3.6/site-packages (from torch>=1.1->torchio) (0.18.2)\n",
      "Requirement already satisfied: typing_extensions in /opt/conda/lib/python3.6/site-packages (from torch>=1.1->torchio) (3.7.4.3)\n",
      "Requirement already satisfied: dataclasses in /opt/conda/lib/python3.6/site-packages (from torch>=1.1->torchio) (0.7)\n",
      "Requirement already satisfied: setuptools in /opt/conda/lib/python3.6/site-packages (from humanize->torchio) (50.3.0.post20201006)\n",
      "Collecting pillow>=4.1.1\n",
      "  Downloading Pillow-8.0.1-cp36-cp36m-manylinux1_x86_64.whl (2.2 MB)\n",
      "\u001b[K     |████████████████████████████████| 2.2 MB 42.0 MB/s eta 0:00:01\n",
      "\u001b[?25hRequirement already satisfied: six in /opt/conda/lib/python3.6/site-packages (from packaging>=14.3->nibabel->torchio) (1.15.0)\n",
      "Requirement already satisfied: pyparsing>=2.0.2 in /opt/conda/lib/python3.6/site-packages (from packaging>=14.3->nibabel->torchio) (2.4.7)\n",
      "Building wheels for collected packages: Python-Deprecated\n",
      "  Building wheel for Python-Deprecated (setup.py) ... \u001b[?25ldone\n",
      "\u001b[?25h  Created wheel for Python-Deprecated: filename=Python_Deprecated-1.1.0-py2.py3-none-any.whl size=3069 sha256=16d0fe9de719c9952339a7797601fa24e228387f865322ad08ccd9594feb7b0d\n",
      "  Stored in directory: /root/.cache/pip/wheels/7b/77/f4/889fb222210030f42875d19bb55b64ea2b394428066fd3a6f4\n",
      "Successfully built Python-Deprecated\n",
      "Installing collected packages: SimpleITK, nibabel, humanize, Python-Deprecated, torchio, pillow\n",
      "Successfully installed Python-Deprecated-1.1.0 SimpleITK-1.2.4 humanize-3.1.0 nibabel-3.2.0 pillow-8.0.1 torchio-0.17.53\n"
     ]
    }
   ],
   "source": [
    "!pip install torchio"
   ]
  },
  {
   "cell_type": "code",
   "execution_count": 2,
   "metadata": {},
   "outputs": [
    {
     "data": {
      "text/plain": [
       "185"
      ]
     },
     "execution_count": 2,
     "metadata": {},
     "output_type": "execute_result"
    }
   ],
   "source": [
    "import gc\n",
    "gc.collect()"
   ]
  },
  {
   "cell_type": "code",
   "execution_count": 2,
   "metadata": {
    "collapsed": true,
    "jupyter": {
     "outputs_hidden": true
    }
   },
   "outputs": [
    {
     "name": "stdout",
     "output_type": "stream",
     "text": [
      "Collecting monai\n",
      "  Downloading monai-0.3.0-202010042353-py3-none-any.whl (298 kB)\n",
      "\u001b[K     |████████████████████████████████| 298 kB 3.2 MB/s eta 0:00:01\n",
      "\u001b[?25hRequirement already satisfied: numpy>=1.17 in /opt/conda/lib/python3.6/site-packages (from monai) (1.19.1)\n",
      "Requirement already satisfied: torch>=1.4 in /opt/conda/lib/python3.6/site-packages (from monai) (1.7.0a0+7036e91)\n",
      "Requirement already satisfied: future in /opt/conda/lib/python3.6/site-packages (from torch>=1.4->monai) (0.18.2)\n",
      "Requirement already satisfied: typing_extensions in /opt/conda/lib/python3.6/site-packages (from torch>=1.4->monai) (3.7.4.3)\n",
      "Requirement already satisfied: dataclasses in /opt/conda/lib/python3.6/site-packages (from torch>=1.4->monai) (0.7)\n",
      "Installing collected packages: monai\n",
      "Successfully installed monai-0.3.0\n"
     ]
    }
   ],
   "source": [
    "!pip install monai"
   ]
  },
  {
   "cell_type": "code",
   "execution_count": 8,
   "metadata": {
    "collapsed": true,
    "jupyter": {
     "outputs_hidden": true
    }
   },
   "outputs": [
    {
     "name": "stdout",
     "output_type": "stream",
     "text": [
      "# packages in environment at /opt/conda:\n",
      "#\n",
      "# Name                    Version                   Build  Channel\n",
      "_libgcc_mutex             0.1                        main  \n",
      "absl-py                   0.10.0                   pypi_0    pypi\n",
      "alabaster                 0.7.12                   pypi_0    pypi\n",
      "apex                      0.1                      pypi_0    pypi\n",
      "argon2-cffi               20.1.0                   pypi_0    pypi\n",
      "ascii-graph               1.5.1                    pypi_0    pypi\n",
      "astunparse                1.6.3                    pypi_0    pypi\n",
      "async-generator           1.10                     pypi_0    pypi\n",
      "attrs                     20.2.0                     py_0  \n",
      "audioread                 2.1.9                    pypi_0    pypi\n",
      "babel                     2.8.0                    pypi_0    pypi\n",
      "backcall                  0.2.0                      py_0  \n",
      "beautifulsoup4            4.9.3              pyhb0f4dca_0  \n",
      "blas                      1.0                    openblas  \n",
      "bleach                    3.2.1                    pypi_0    pypi\n",
      "boto3                     1.16.2                   pypi_0    pypi\n",
      "botocore                  1.19.2                   pypi_0    pypi\n",
      "brotlipy                  0.7.0           py36h7b6447c_1000  \n",
      "bzip2                     1.0.8                h7b6447c_0  \n",
      "ca-certificates           2020.10.14                    0  \n",
      "cachetools                4.1.1                    pypi_0    pypi\n",
      "catalogue                 1.0.0                    py36_1  \n",
      "certifi                   2020.6.20          pyhd3eb1b0_3  \n",
      "cffi                      1.14.3           py36he30daa8_0  \n",
      "chardet                   3.0.4                 py36_1003  \n",
      "click                     7.1.2                    pypi_0    pypi\n",
      "cmake                     3.14.0               h52cb24c_0  \n",
      "codecov                   2.1.10                   pypi_0    pypi\n",
      "conda                     4.8.5                    py36_0  \n",
      "conda-build               3.20.3                   py36_0  \n",
      "conda-package-handling    1.6.1            py36h7b6447c_0  \n",
      "coverage                  5.3                      pypi_0    pypi\n",
      "cryptography              3.1.1            py36h1ba5d50_0  \n",
      "cxxfilt                   0.2.2                    pypi_0    pypi\n",
      "cycler                    0.10.0                   pypi_0    pypi\n",
      "cymem                     2.0.3            py36he6710b0_0  \n",
      "cython                    0.28.4                   pypi_0    pypi\n",
      "cython-blis               0.4.1            py36h7b6447c_1  \n",
      "dataclasses               0.7                      pypi_0    pypi\n",
      "dataproperty              0.50.0                   pypi_0    pypi\n",
      "dbus                      1.13.18              hb2f20db_0  \n",
      "decorator                 4.4.2                      py_0  \n",
      "defusedxml                0.6.0                    pypi_0    pypi\n",
      "dllogger                  0.1.0                    pypi_0    pypi\n",
      "docutils                  0.16                     pypi_0    pypi\n",
      "entrypoints               0.3                      pypi_0    pypi\n",
      "expat                     2.2.10               he6710b0_2  \n",
      "filelock                  3.0.12                     py_0  \n",
      "flake8                    3.7.9                    pypi_0    pypi\n",
      "flask                     1.1.2                    pypi_0    pypi\n",
      "fontconfig                2.13.0               h9420a91_0  \n",
      "freetype                  2.10.4               h5ab3b9f_0  \n",
      "future                    0.18.2                   pypi_0    pypi\n",
      "gast                      0.3.3                    pypi_0    pypi\n",
      "glib                      2.66.1               h92f7085_0  \n",
      "glob2                     0.7                        py_0  \n",
      "google-auth               1.23.0                   pypi_0    pypi\n",
      "google-auth-oauthlib      0.4.2                    pypi_0    pypi\n",
      "google-pasta              0.2.0                    pypi_0    pypi\n",
      "grpcio                    1.33.1                   pypi_0    pypi\n",
      "gst-plugins-base          1.14.0               hbbd80ab_1  \n",
      "gstreamer                 1.14.0               hb31296c_0  \n",
      "h5py                      2.10.0                   pypi_0    pypi\n",
      "html2text                 2020.1.16                pypi_0    pypi\n",
      "humanize                  3.1.0                    pypi_0    pypi\n",
      "hypothesis                4.50.8                   pypi_0    pypi\n",
      "icu                       58.2                 he6710b0_3  \n",
      "idna                      2.9                        py_1  \n",
      "imageio                   2.9.0                    pypi_0    pypi\n",
      "imagesize                 1.2.0                    pypi_0    pypi\n",
      "importlib-metadata        2.0.0                      py_1  \n",
      "importlib_metadata        2.0.0                         1  \n",
      "inflect                   4.1.0                    pypi_0    pypi\n",
      "iniconfig                 1.1.1                    pypi_0    pypi\n",
      "intel-openmp              2019.4                      243  \n",
      "ipdb                      0.13.4                   pypi_0    pypi\n",
      "ipykernel                 5.3.4                    pypi_0    pypi\n",
      "ipython                   7.16.1           py36h5ca1d4c_0  \n",
      "ipython_genutils          0.2.0                    py36_0  \n",
      "itk                       5.1.1.post1              pypi_0    pypi\n",
      "itk-core                  5.1.1.post1              pypi_0    pypi\n",
      "itk-filtering             5.1.1.post1              pypi_0    pypi\n",
      "itk-io                    5.1.1.post1              pypi_0    pypi\n",
      "itk-numerics              5.1.1.post1              pypi_0    pypi\n",
      "itk-registration          5.1.1.post1              pypi_0    pypi\n",
      "itk-segmentation          5.1.1.post1              pypi_0    pypi\n",
      "itsdangerous              1.1.0                    pypi_0    pypi\n",
      "jedi                      0.17.2                   py36_0  \n",
      "jinja2                    2.11.2                     py_0  \n",
      "jmespath                  0.10.0                   pypi_0    pypi\n",
      "joblib                    0.17.0                   pypi_0    pypi\n",
      "jpeg                      9b                   h024ee3a_2  \n",
      "json5                     0.9.5                    pypi_0    pypi\n",
      "jsonschema                3.0.2                    py36_0  \n",
      "jupyter-client            6.1.7                    pypi_0    pypi\n",
      "jupyter-core              4.6.3                    pypi_0    pypi\n",
      "jupyter-tensorboard       0.2.0                    pypi_0    pypi\n",
      "jupyterlab                1.2.14                   pypi_0    pypi\n",
      "jupyterlab-pygments       0.1.2                    pypi_0    pypi\n",
      "jupyterlab-server         1.2.0                    pypi_0    pypi\n",
      "jupytext                  1.6.0                    pypi_0    pypi\n",
      "keras-preprocessing       1.1.2                    pypi_0    pypi\n",
      "kiwisolver                1.2.0                    pypi_0    pypi\n",
      "krb5                      1.17.1               h173b8e3_0  \n",
      "lcms2                     2.11                 h396b838_0  \n",
      "ld_impl_linux-64          2.33.1               h53a641e_7  \n",
      "libarchive                3.4.2                h62408e4_0  \n",
      "libcurl                   7.69.1               h20c2e04_0  \n",
      "libedit                   3.1.20181209         hc058e9b_0  \n",
      "libffi                    3.3                  he6710b0_1  \n",
      "libgcc-ng                 9.1.0                hdf63c60_0  \n",
      "libgfortran-ng            7.3.0                hdf63c60_0  \n",
      "liblief                   0.10.1               he6710b0_0  \n",
      "libopenblas               0.3.10               h5a2b251_0  \n",
      "libpng                    1.6.37               hbc83047_0  \n",
      "librosa                   0.6.3                    pypi_0    pypi\n",
      "libssh2                   1.9.0                h1ba5d50_1  \n",
      "libstdcxx-ng              9.1.0                hdf63c60_0  \n",
      "libtiff                   4.1.0                h2733197_1  \n",
      "libuuid                   1.0.3                h1bed415_2  \n",
      "libxcb                    1.14                 h7b6447c_0  \n",
      "libxml2                   2.9.10               he19cac6_1  \n",
      "llvmlite                  0.28.0           py36hd408876_0  \n",
      "lmdb                      1.0.0                    pypi_0    pypi\n",
      "lz4-c                     1.9.2                heb0550a_3  \n",
      "magma-cuda110             2.5.2                         5    local\n",
      "markdown                  3.3.2                    pypi_0    pypi\n",
      "markdown-it-py            0.5.6                    pypi_0    pypi\n",
      "markupsafe                1.1.1            py36h7b6447c_0  \n",
      "maskrcnn-benchmark        0.1                      pypi_0    pypi\n",
      "matplotlib                3.3.2                         0  \n",
      "matplotlib-base           3.3.2            py36h817c723_0  \n",
      "mbstrdecoder              1.0.0                    pypi_0    pypi\n",
      "mccabe                    0.6.1                    pypi_0    pypi\n",
      "mistune                   0.8.4                    pypi_0    pypi\n",
      "mkl                       2019.1                      144  \n",
      "mkl-include               2019.1                      144  \n",
      "mlperf-compliance         0.0.10                   pypi_0    pypi\n",
      "mock                      4.0.2                      py_0  \n",
      "monai                     0.3.0                    pypi_0    pypi\n",
      "msgfy                     0.1.0                    pypi_0    pypi\n",
      "murmurhash                1.0.2            py36he6710b0_0  \n",
      "nbclient                  0.5.1                    pypi_0    pypi\n",
      "nbconvert                 6.0.7                    pypi_0    pypi\n",
      "nbformat                  5.0.8                    pypi_0    pypi\n",
      "ncurses                   6.2                  he6710b0_1  \n",
      "nest-asyncio              1.4.1                    pypi_0    pypi\n",
      "networkx                  2.0                      pypi_0    pypi\n",
      "nibabel                   3.2.0                    pypi_0    pypi\n",
      "ninja                     1.10.1           py36hfd86e86_0  \n",
      "nltk                      3.5                      pypi_0    pypi\n",
      "nomkl                     3.0                           0  \n",
      "notebook                  6.1.4                    pypi_0    pypi\n",
      "numba                     0.43.1           py36h962f231_0  \n",
      "numpy                     1.18.5                   pypi_0    pypi\n",
      "nvidia-dali-cuda110       0.26.0                   pypi_0    pypi\n",
      "nvidia-tensorboard        1.15.0+nv20.10           pypi_0    pypi\n",
      "nvidia-tensorboard-plugin-dlprof 0.8                      pypi_0    pypi\n",
      "oauthlib                  3.1.0                    pypi_0    pypi\n",
      "olefile                   0.46                     py36_0  \n",
      "onnx                      1.7.0                    pypi_0    pypi\n",
      "onnxruntime               1.5.2                    pypi_0    pypi\n",
      "openblas                  0.3.10                        0  \n",
      "openblas-devel            0.3.10                        0  \n",
      "opencv-python             3.4.1.15                 pypi_0    pypi\n",
      "openssl                   1.1.1h               h7b6447c_0  \n",
      "opt-einsum                3.3.0                    pypi_0    pypi\n",
      "packaging                 20.4                     pypi_0    pypi\n",
      "pandas                    0.24.2                   pypi_0    pypi\n",
      "pandocfilters             1.4.2                    pypi_0    pypi\n",
      "parso                     0.7.0                      py_0  \n",
      "patchelf                  0.12                 he6710b0_0  \n",
      "pathvalidate              2.3.0                    pypi_0    pypi\n",
      "pcre                      8.44                 he6710b0_0  \n",
      "pexpect                   4.8.0                    py36_0  \n",
      "pickleshare               0.7.5                    py36_0  \n",
      "pillow                    8.0.1            py36he98fc37_0  \n",
      "pillow-simd               7.0.0.post3              pypi_0    pypi\n",
      "pip                       20.2.3                   py36_0  \n",
      "pkginfo                   1.5.0.1                  py36_0  \n",
      "plac                      0.9.6                    py36_1  \n",
      "pluggy                    0.13.1                   pypi_0    pypi\n",
      "preshed                   3.0.2            py36he6710b0_1  \n",
      "progressbar               2.5                      pypi_0    pypi\n",
      "prometheus-client         0.8.0                    pypi_0    pypi\n",
      "prompt-toolkit            3.0.8                      py_0  \n",
      "protobuf                  3.13.0                   pypi_0    pypi\n",
      "psutil                    5.7.2            py36h7b6447c_0  \n",
      "ptyprocess                0.6.0                    py36_0  \n",
      "py                        1.9.0                    pypi_0    pypi\n",
      "py-lief                   0.10.1           py36h403a769_0  \n",
      "pyasn1                    0.4.8                    pypi_0    pypi\n",
      "pyasn1-modules            0.2.8                    pypi_0    pypi\n",
      "pybind11                  2.6.0                    pypi_0    pypi\n",
      "pycocotools               2.0+nv0.4.0              pypi_0    pypi\n",
      "pycodestyle               2.5.0                    pypi_0    pypi\n",
      "pycosat                   0.6.3            py36h7b6447c_0  \n",
      "pycparser                 2.20                       py_0  \n",
      "pydot                     1.4.1                    pypi_0    pypi\n",
      "pyflakes                  2.1.1                    pypi_0    pypi\n",
      "pygments                  2.7.1                      py_0  \n",
      "pynvml                    8.0.4                    pypi_0    pypi\n",
      "pyopenssl                 19.1.0                     py_1  \n",
      "pyparsing                 2.4.7                      py_0  \n",
      "pyprof                    3.5.0                    pypi_0    pypi\n",
      "pyqt                      5.9.2            py36h05f1152_2  \n",
      "pyrsistent                0.17.3           py36h7b6447c_0  \n",
      "pysocks                   1.7.1                    py36_0  \n",
      "pytablewriter             0.47.0                   pypi_0    pypi\n",
      "pytest                    6.1.1                    pypi_0    pypi\n",
      "pytest-cov                2.10.1                   pypi_0    pypi\n",
      "pytest-pythonpath         0.7.3                    pypi_0    pypi\n",
      "python                    3.6.10               h7579374_2  \n",
      "python-dateutil           2.8.1                      py_0  \n",
      "python-deprecated         1.1.0                    pypi_0    pypi\n",
      "python-hostlist           1.21                     pypi_0    pypi\n",
      "python-libarchive-c       2.9                        py_0  \n",
      "python-nvd3               0.15.0                   pypi_0    pypi\n",
      "python-slugify            4.0.1                    pypi_0    pypi\n",
      "pytorch-transformers      1.1.0                    pypi_0    pypi\n",
      "pytz                      2020.1                     py_0  \n",
      "pywavelets                1.1.1                    pypi_0    pypi\n",
      "pyyaml                    5.3.1            py36h7b6447c_0  \n",
      "pyzmq                     19.0.2                   pypi_0    pypi\n",
      "qt                        5.9.7                h5867ecd_1  \n",
      "readline                  8.0                  h7b6447c_0  \n",
      "regex                     2020.10.15               pypi_0    pypi\n",
      "requests                  2.24.0                     py_0  \n",
      "requests-oauthlib         1.3.0                    pypi_0    pypi\n",
      "resampy                   0.2.2                    pypi_0    pypi\n",
      "revtok                    0.0.3                    pypi_0    pypi\n",
      "rhash                     1.4.0                h1ba5d50_0  \n",
      "ripgrep                   12.1.1                        0  \n",
      "rsa                       4.6                      pypi_0    pypi\n",
      "ruamel_yaml               0.15.87          py36h7b6447c_0  \n",
      "s3transfer                0.3.3                    pypi_0    pypi\n",
      "sacrebleu                 1.2.10                   pypi_0    pypi\n",
      "sacremoses                0.0.35                   pypi_0    pypi\n",
      "scikit-image              0.15.0                   pypi_0    pypi\n",
      "scikit-learn              0.23.2                   pypi_0    pypi\n",
      "scipy                     1.5.2            py36habc2bb6_0  \n",
      "seaborn                   0.11.0                     py_0  \n",
      "send2trash                1.5.0                    pypi_0    pypi\n",
      "sentencepiece             0.1.91                   pypi_0    pypi\n",
      "setuptools                50.3.0           py36hb0f4dca_1  \n",
      "simpleitk                 1.2.4                    pypi_0    pypi\n",
      "sip                       4.19.8           py36hf484d3e_0  \n",
      "six                       1.15.0                     py_0  \n",
      "snowballstemmer           2.0.0                    pypi_0    pypi\n",
      "soundfile                 0.10.3.post1             pypi_0    pypi\n",
      "soupsieve                 2.0.1                      py_0  \n",
      "sox                       1.4.1                    pypi_0    pypi\n",
      "spacy                     2.3.2            py36hfd86e86_0  \n",
      "sphinx                    3.2.1                    pypi_0    pypi\n",
      "sphinx-rtd-theme          0.5.0                    pypi_0    pypi\n",
      "sphinxcontrib-applehelp   1.0.2                    pypi_0    pypi\n",
      "sphinxcontrib-devhelp     1.0.2                    pypi_0    pypi\n",
      "sphinxcontrib-htmlhelp    1.0.3                    pypi_0    pypi\n",
      "sphinxcontrib-jsmath      1.0.1                    pypi_0    pypi\n",
      "sphinxcontrib-qthelp      1.0.3                    pypi_0    pypi\n",
      "sphinxcontrib-serializinghtml 1.1.4                    pypi_0    pypi\n",
      "sqlite                    3.31.1               h62c20be_1  \n",
      "srsly                     1.0.2            py36he6710b0_0  \n",
      "ssd                       0.1                      pypi_0    pypi\n",
      "subword-nmt               0.3.3                    pypi_0    pypi\n",
      "tabledata                 1.1.3                    pypi_0    pypi\n",
      "tabulate                  0.8.7                    pypi_0    pypi\n",
      "tbb                       2020.3               hfd86e86_0  \n",
      "tensorboard               2.3.0                    pypi_0    pypi\n",
      "tensorboard-plugin-wit    1.7.0                    pypi_0    pypi\n",
      "tensorflow                2.3.1                    pypi_0    pypi\n",
      "tensorflow-estimator      2.3.0                    pypi_0    pypi\n",
      "tensorrt                  7.2.1.4                  pypi_0    pypi\n",
      "termcolor                 1.1.0                    pypi_0    pypi\n",
      "terminado                 0.9.1                    pypi_0    pypi\n",
      "testpath                  0.4.4                    pypi_0    pypi\n",
      "text-unidecode            1.3                      pypi_0    pypi\n",
      "thinc                     7.4.1            py36hfd86e86_0  \n",
      "threadpoolctl             2.1.0                    pypi_0    pypi\n",
      "tk                        8.6.8                hbc83047_0  \n",
      "toml                      0.10.1                   pypi_0    pypi\n",
      "torch                     1.7.0                    pypi_0    pypi\n",
      "torchio                   0.17.51                  pypi_0    pypi\n",
      "torchtext                 0.8.0a0                  pypi_0    pypi\n",
      "torchvision               0.8.0a0                  pypi_0    pypi\n",
      "tornado                   6.0.4            py36h7b6447c_1  \n",
      "tqdm                      4.31.1                   pypi_0    pypi\n",
      "traitlets                 4.3.3                    py36_0  \n",
      "typepy                    1.1.1                    pypi_0    pypi\n",
      "typing                    3.7.4.3                  pypi_0    pypi\n",
      "typing-extensions         3.7.4.3                  pypi_0    pypi\n",
      "unidecode                 1.1.1                    pypi_0    pypi\n",
      "urllib3                   1.25.10                    py_0  \n",
      "wasabi                    0.8.0                      py_0  \n",
      "wcwidth                   0.2.5                      py_0  \n",
      "webencodings              0.5.1                    pypi_0    pypi\n",
      "werkzeug                  1.0.1                    pypi_0    pypi\n",
      "wheel                     0.35.1                     py_0  \n",
      "wrapt                     1.12.1                   pypi_0    pypi\n",
      "xz                        5.2.5                h7b6447c_0  \n",
      "yacs                      0.1.8                    pypi_0    pypi\n",
      "yaml                      0.1.7                had09818_2  \n",
      "zipp                      3.3.0                      py_0  \n",
      "zlib                      1.2.11               h7b6447c_3  \n",
      "zstd                      1.4.5                h9ceee32_0  \n"
     ]
    }
   ],
   "source": [
    "!conda list"
   ]
  },
  {
   "cell_type": "code",
   "execution_count": 3,
   "metadata": {
    "collapsed": true,
    "jupyter": {
     "outputs_hidden": true
    }
   },
   "outputs": [
    {
     "name": "stdout",
     "output_type": "stream",
     "text": [
      "Collecting itk\n",
      "  Downloading itk-5.1.1.post1-cp36-cp36m-manylinux1_x86_64.whl (7.7 kB)\n",
      "Requirement already satisfied: numpy in /opt/conda/lib/python3.6/site-packages (from itk) (1.19.1)\n",
      "Collecting itk-numerics==5.1.1.post1\n",
      "  Downloading itk_numerics-5.1.1.post1-cp36-cp36m-manylinux1_x86_64.whl (36.3 MB)\n",
      "\u001b[K     |████████████████████████████████| 36.3 MB 335 kB/s eta 0:00:01    |████▎                           | 4.9 MB 4.3 MB/s eta 0:00:08     |█████████████████████████████▉  | 33.9 MB 4.3 MB/s eta 0:00:01\n",
      "\u001b[?25hCollecting itk-segmentation==5.1.1.post1\n",
      "  Downloading itk_segmentation-5.1.1.post1-cp36-cp36m-manylinux1_x86_64.whl (10.3 MB)\n",
      "\u001b[K     |████████████████████████████████| 10.3 MB 71.0 MB/s eta 0:00:01\n",
      "\u001b[?25hCollecting itk-registration==5.1.1.post1\n",
      "  Downloading itk_registration-5.1.1.post1-cp36-cp36m-manylinux1_x86_64.whl (14.4 MB)\n",
      "\u001b[K     |████████████████████████████████| 14.4 MB 52.2 MB/s eta 0:00:01\n",
      "\u001b[?25hCollecting itk-io==5.1.1.post1\n",
      "  Downloading itk_io-5.1.1.post1-cp36-cp36m-manylinux1_x86_64.whl (14.0 MB)\n",
      "\u001b[K     |████████████████████████████████| 14.0 MB 76.3 MB/s eta 0:00:01\n",
      "\u001b[?25hCollecting itk-core==5.1.1.post1\n",
      "  Downloading itk_core-5.1.1.post1-cp36-cp36m-manylinux1_x86_64.whl (50.1 MB)\n",
      "\u001b[K     |████████████████████████████████| 50.1 MB 65.0 MB/s eta 0:00:01\n",
      "\u001b[?25hCollecting itk-filtering==5.1.1.post1\n",
      "  Downloading itk_filtering-5.1.1.post1-cp36-cp36m-manylinux1_x86_64.whl (68.0 MB)\n",
      "\u001b[K     |████████████████████████████████| 68.0 MB 176 kB/s  eta 0:00:01     |█████████▍                      | 20.0 MB 77.5 MB/s eta 0:00:01\n",
      "\u001b[?25hInstalling collected packages: itk-core, itk-numerics, itk-filtering, itk-segmentation, itk-registration, itk-io, itk\n",
      "Successfully installed itk-5.1.1.post1 itk-core-5.1.1.post1 itk-filtering-5.1.1.post1 itk-io-5.1.1.post1 itk-numerics-5.1.1.post1 itk-registration-5.1.1.post1 itk-segmentation-5.1.1.post1\n"
     ]
    }
   ],
   "source": [
    "!pip install itk"
   ]
  },
  {
   "cell_type": "code",
   "execution_count": 23,
   "metadata": {},
   "outputs": [],
   "source": [
    "import argparse\n",
    "import os\n",
    "import sys\n",
    "import pandas as pd\n",
    "from tqdm import tqdm\n",
    "import numpy as np\n",
    "import glob\n",
    "import multiprocessing\n",
    "\n",
    "import torch\n",
    "import torch.optim as optim\n",
    "import torch.utils.data\n",
    "from torch.utils.tensorboard import SummaryWriter\n",
    "from torch import autograd\n",
    "\n",
    "from torchio.transforms import CropOrPad\n",
    "from monai.data import ArrayDataset, DataLoader, PILReader\n",
    "from monai.transforms import Compose, LoadImage, AddChannel, RandFlip, RandRotate, RandRotate90, RandScaleIntensity, CenterSpatialCrop, ToTensor, ScaleIntensity, LoadPNG, RandSpatialCrop\n",
    "from monai.visualize import plot_2d_or_3d_image\n",
    "\n",
    "import FlowArrayDataset\n",
    "import FlowPatchArrayDataset\n",
    "\n",
    "from utils import *\n",
    "from VGGLoss import *\n",
    "from Generator import *\n",
    "from Discriminator import *"
   ]
  },
  {
   "cell_type": "code",
   "execution_count": 2,
   "metadata": {},
   "outputs": [
    {
     "data": {
      "text/plain": [
       "_StoreAction(option_strings=['--save_loss_dir'], dest='save_loss_dir', nargs=None, const=None, default='./lossinfo/templossinfo', type=<class 'str'>, choices=None, help='directory for loss information', metavar=None)"
      ]
     },
     "execution_count": 2,
     "metadata": {},
     "output_type": "execute_result"
    }
   ],
   "source": [
    "# Replace with variables - no commandline arguments in notebook\n",
    "parser = argparse.ArgumentParser(description='Train')\n",
    "parser.add_argument('--num_epochs_G', default=3, type=int,\n",
    "                    help='number of epochs to pre-train generator, otherwise set to None')\n",
    "parser.add_argument('--num_epochs', default=3, type=int, help='number of epochs')\n",
    "parser.add_argument('--batch_size', default=2, type=int, help='batch size')\n",
    "parser.add_argument('--mode', default='MSE', type=str,\n",
    "                    help='MSE for MSE as a content loss or VGG for pretrained vgg19 as a content loss')\n",
    "parser.add_argument('--aug_prob', default=15, type=int, help='augmentation probability')\n",
    "parser.add_argument('--data_dir', default='./images/*/*', type=str) #'./images/*/*'\n",
    "parser.add_argument('--load_weight_dir', default=None, type=str,\n",
    "                    help='if you want to continue training load the checkpoint, otherwise set to None')\n",
    "parser.add_argument('--save_weight_dir', default='./checkpoints/tempcheckpoint',\n",
    "                    type=str, help='directory where training weightes are saved')\n",
    "parser.add_argument('--log_dir', default='./logs/templog',\n",
    "                    type=str, help='directory where tensorboard logs are saved')\n",
    "parser.add_argument('--save_loss_dir', default='./lossinfo/templossinfo',\n",
    "                    type=str, help='directory for loss information')"
   ]
  },
  {
   "cell_type": "code",
   "execution_count": 24,
   "metadata": {},
   "outputs": [],
   "source": [
    "num_epochs_G = 10\n",
    "num_epochs = 600\n",
    "batch_size = 8\n",
    "mode = \"VGG\"\n",
    "adv_weight = 1e-2\n",
    "aug_prob = 30\n",
    "data_dir = \"/data/*\"\n",
    "load_weight_dir = None #\"checkpoints/tempcheckpoint/pretrained_G_epoch_100.pth\"\n",
    "save_weight_dir = \"checkpoints/tempcheckpoint2\"\n",
    "log_dir = \"logs/templog2\"\n",
    "loss_dir = \"lossinfo/templossinfo2\""
   ]
  },
  {
   "cell_type": "code",
   "execution_count": 25,
   "metadata": {},
   "outputs": [],
   "source": [
    "if not os.path.exists(save_weight_dir):\n",
    "    os.makedirs(save_weight_dir)\n",
    "if not os.path.exists(log_dir):\n",
    "    os.makedirs(log_dir)\n",
    "if not os.path.exists(loss_dir):\n",
    "    os.makedirs(loss_dir)"
   ]
  },
  {
   "cell_type": "code",
   "execution_count": 26,
   "metadata": {},
   "outputs": [
    {
     "name": "stdout",
     "output_type": "stream",
     "text": [
      "using GPU? : True, GPU: A100-SXM4-40GB\n"
     ]
    }
   ],
   "source": [
    "device = torch.device('cuda') if torch.cuda.is_available() else 'cpu'\n",
    "print(f'using GPU? : {torch.cuda.is_available()}, GPU: {torch.cuda.get_device_name()}', )\n",
    "#writer = SummaryWriter(log_dir=log_dir)  # tensorboard"
   ]
  },
  {
   "cell_type": "code",
   "execution_count": 27,
   "metadata": {},
   "outputs": [],
   "source": [
    "# 6 input slices\n",
    "inputZ01_path = sorted(glob.glob(os.path.join(data_dir, '*A04Z01*.tif'), recursive=True))\n",
    "inputZ02_path = sorted(glob.glob(os.path.join(data_dir, '*A04Z02*.tif'), recursive=True))\n",
    "inputZ03_path = sorted(glob.glob(os.path.join(data_dir, '*A04Z03*.tif'), recursive=True))\n",
    "inputZ04_path = sorted(glob.glob(os.path.join(data_dir, '*A04Z04*.tif'), recursive=True))\n",
    "inputZ05_path = sorted(glob.glob(os.path.join(data_dir, '*A04Z05*.tif'), recursive=True))\n",
    "inputZ06_path = sorted(glob.glob(os.path.join(data_dir, '*A04Z06*.tif'), recursive=True))\n",
    "inputZ07_path = sorted(glob.glob(os.path.join(data_dir, '*A04Z07*.tif'), recursive=True))\n",
    "\n",
    "# 3 output channels\n",
    "targetC01_path = sorted(glob.glob(os.path.join(data_dir, '*C01.tif'), recursive=True))\n",
    "targetC02_path = sorted(glob.glob(os.path.join(data_dir, '*C02.tif'), recursive=True))\n",
    "targetC03_path = sorted(glob.glob(os.path.join(data_dir, '*C03.tif'), recursive=True))\n",
    "\n",
    "# split training/validation\n",
    "inputZ01, inputZ01_val = split_train_val(inputZ01_path)\n",
    "inputZ02, inputZ02_val = split_train_val(inputZ02_path)\n",
    "inputZ03, inputZ03_val = split_train_val(inputZ03_path)\n",
    "inputZ04, inputZ04_val = split_train_val(inputZ04_path)\n",
    "inputZ05, inputZ05_val = split_train_val(inputZ05_path)\n",
    "inputZ06, inputZ06_val = split_train_val(inputZ06_path)\n",
    "inputZ07, inputZ07_val = split_train_val(inputZ07_path)\n",
    "\n",
    "targetC01, targetC01_val = split_train_val(targetC01_path)\n",
    "targetC02, targetC02_val = split_train_val(targetC02_path)\n",
    "targetC03, targetC03_val = split_train_val(targetC03_path)"
   ]
  },
  {
   "cell_type": "code",
   "execution_count": 91,
   "metadata": {},
   "outputs": [],
   "source": [
    "def find_first_occurance(tuple_list, target_str):\n",
    "    for i, t in enumerate(tuple_list):\n",
    "        if target_str in t[0]:\n",
    "            return i\n",
    "        \n",
    "def split_train_val(data_list, N_valid_per_magn=1):\n",
    "    indexes = [\n",
    "        find_first_occurance(data_list, mag_lev)\n",
    "        for mag_lev in [\"20x\", \"40x\", \"60x\"]\n",
    "    ]\n",
    "    indexes = [i for initial in indexes for i in range(initial, initial+N_valid_per_magn)]\n",
    "    train_split = [data_list[i] for i in range(len(data_list)) if i not in indexes]\n",
    "    val_split = [data_list[i] for i in indexes]\n",
    "    return train_split, val_split"
   ]
  },
  {
   "cell_type": "code",
   "execution_count": 70,
   "metadata": {},
   "outputs": [
    {
     "data": {
      "text/plain": [
       "('/data/20x_images/AssayPlate_Greiner_#655090_B03_T0001F001L01A04Z01C04.tif',\n",
       " '/data/20x_images/AssayPlate_Greiner_#655090_B03_T0001F001L01A04Z02C04.tif',\n",
       " '/data/20x_images/AssayPlate_Greiner_#655090_B03_T0001F001L01A04Z03C04.tif',\n",
       " '/data/20x_images/AssayPlate_Greiner_#655090_B03_T0001F001L01A04Z04C04.tif',\n",
       " '/data/20x_images/AssayPlate_Greiner_#655090_B03_T0001F001L01A04Z05C04.tif',\n",
       " '/data/20x_images/AssayPlate_Greiner_#655090_B03_T0001F001L01A04Z06C04.tif',\n",
       " '/data/20x_images/AssayPlate_Greiner_#655090_B03_T0001F001L01A04Z07C04.tif',\n",
       " '/data/20x_images/AssayPlate_Greiner_#655090_B03_T0001F001L01A01Z01C01.tif',\n",
       " '/data/20x_images/AssayPlate_Greiner_#655090_B03_T0001F001L01A02Z01C02.tif',\n",
       " '/data/20x_images/AssayPlate_Greiner_#655090_B03_T0001F001L01A03Z01C03.tif')"
      ]
     },
     "execution_count": 70,
     "metadata": {},
     "output_type": "execute_result"
    }
   ],
   "source": [
    "# collect instances\n",
    "inputs = [\n",
    "    sorted(glob.glob(os.path.join(data_dir, f'*A04Z0{i}*.tif'), recursive=True))\n",
    "    for i in range(1,8)\n",
    "]\n",
    "targets = [\n",
    "    sorted(glob.glob(os.path.join(data_dir, f'*C0{i}.tif'), recursive=True))\n",
    "    for i in range(1,4)\n",
    "]\n",
    "# merge inputs and targets\n",
    "all_data = inputs + targets\n",
    "# match the slices and match all of the data for one input instance\n",
    "data_all_ch = list(zip(*all_data))\n",
    "data_all_ch[0]"
   ]
  },
  {
   "cell_type": "code",
   "execution_count": 97,
   "metadata": {},
   "outputs": [],
   "source": [
    "train_split, val_split = split_train_val(data_all_ch, \n",
    "                                         N_valid_per_magn=2)"
   ]
  },
  {
   "cell_type": "code",
   "execution_count": 87,
   "metadata": {},
   "outputs": [
    {
     "data": {
      "text/plain": [
       "[0, 1, 2, 3, 48, 49, 50, 51, 112, 113, 114, 115]"
      ]
     },
     "execution_count": 87,
     "metadata": {},
     "output_type": "execute_result"
    }
   ],
   "source": [
    "indexes = [\n",
    "        find_first_occurance(data_all_ch, mag_lev)\n",
    "        for mag_lev in [\"20x\", \"40x\", \"60x\"]\n",
    "    ]\n",
    "indexes = [i for initial in indexes for i in range(initial, initial+4)]\n",
    "indexes"
   ]
  },
  {
   "cell_type": "code",
   "execution_count": 36,
   "metadata": {},
   "outputs": [
    {
     "data": {
      "text/plain": [
       "['/data/40x_images/AssayPlate_Greiner_#655090_D04_T0001F008L01A04Z01C04.tif',\n",
       " '/data/60x_images/AssayPlate_Greiner_#655090_B03_T0001F001L01A04Z01C04.tif',\n",
       " '/data/60x_images/AssayPlate_Greiner_#655090_B03_T0001F002L01A04Z01C04.tif']"
      ]
     },
     "execution_count": 36,
     "metadata": {},
     "output_type": "execute_result"
    }
   ],
   "source": [
    "inputZ01_path[111:114]"
   ]
  },
  {
   "cell_type": "code",
   "execution_count": 37,
   "metadata": {},
   "outputs": [
    {
     "data": {
      "text/plain": [
       "'/data/60x_images/AssayPlate_Greiner_#655090_B03_T0001F001L01A04Z01C04.tif'"
      ]
     },
     "execution_count": 37,
     "metadata": {},
     "output_type": "execute_result"
    }
   ],
   "source": [
    "inputZ01_path[112]"
   ]
  },
  {
   "cell_type": "code",
   "execution_count": 38,
   "metadata": {},
   "outputs": [],
   "source": [
    "asd = inputZ01_path.pop(112)"
   ]
  },
  {
   "cell_type": "code",
   "execution_count": 39,
   "metadata": {},
   "outputs": [
    {
     "data": {
      "text/plain": [
       "'/data/60x_images/AssayPlate_Greiner_#655090_B03_T0001F002L01A04Z01C04.tif'"
      ]
     },
     "execution_count": 39,
     "metadata": {},
     "output_type": "execute_result"
    }
   ],
   "source": [
    "inputZ01_path[112]"
   ]
  },
  {
   "cell_type": "code",
   "execution_count": 40,
   "metadata": {},
   "outputs": [
    {
     "data": {
      "text/plain": [
       "['/data/40x_images/AssayPlate_Greiner_#655090_D04_T0001F008L01A04Z01C04.tif',\n",
       " '/data/60x_images/AssayPlate_Greiner_#655090_B03_T0001F002L01A04Z01C04.tif',\n",
       " '/data/60x_images/AssayPlate_Greiner_#655090_B03_T0001F003L01A04Z01C04.tif']"
      ]
     },
     "execution_count": 40,
     "metadata": {},
     "output_type": "execute_result"
    }
   ],
   "source": [
    "inputZ01_path[111:114]"
   ]
  },
  {
   "cell_type": "code",
   "execution_count": null,
   "metadata": {},
   "outputs": [],
   "source": []
  },
  {
   "cell_type": "code",
   "execution_count": null,
   "metadata": {},
   "outputs": [],
   "source": []
  },
  {
   "cell_type": "code",
   "execution_count": null,
   "metadata": {},
   "outputs": [],
   "source": []
  },
  {
   "cell_type": "code",
   "execution_count": null,
   "metadata": {},
   "outputs": [],
   "source": []
  },
  {
   "cell_type": "code",
   "execution_count": null,
   "metadata": {},
   "outputs": [],
   "source": []
  },
  {
   "cell_type": "code",
   "execution_count": null,
   "metadata": {},
   "outputs": [],
   "source": []
  },
  {
   "cell_type": "code",
   "execution_count": null,
   "metadata": {},
   "outputs": [],
   "source": []
  },
  {
   "cell_type": "code",
   "execution_count": null,
   "metadata": {},
   "outputs": [],
   "source": []
  },
  {
   "cell_type": "code",
   "execution_count": null,
   "metadata": {},
   "outputs": [],
   "source": []
  },
  {
   "cell_type": "code",
   "execution_count": 7,
   "metadata": {},
   "outputs": [],
   "source": [
    "# data preprocessing/augmentation\n",
    "trans_train = TrainCompose(\n",
    "        [\n",
    "            LoadImage(PILReader(), image_only=True),\n",
    "            #ScaleIntensity(),\n",
    "            AddChannel(),\n",
    "            RandSpatialCrop(roi_size=256, random_size=False),\n",
    "            #CenterSpatialCrop(roi_size=2154),  # 2154\n",
    "            RandScaleIntensity(factors=0.25, prob=aug_prob),\n",
    "            #RandRotate(range_x=15, prob=aug_prob, keep_size=True),\n",
    "            RandRotate90(prob=aug_prob, spatial_axes=(0, 1)),\n",
    "            RandFlip(spatial_axis=0, prob=aug_prob),\n",
    "            ToTensor()\n",
    "        ]\n",
    "    )\n",
    "\n",
    "trans_val = ValCompose(\n",
    "    [\n",
    "        LoadImage(PILReader(), image_only=True),\n",
    "        #ScaleIntensity(),\n",
    "        AddChannel(),\n",
    "        RandSpatialCrop(roi_size=256, random_size=False),\n",
    "        #CenterSpatialCrop(roi_size=2154),\n",
    "        ToTensor()\n",
    "    ]\n",
    ")\n",
    "# create dataset class\n",
    "train_dataset = FlowArrayDataset.FlowArrayDataset(\n",
    "    inputZ01=inputZ01, inputZ01_transform=trans_train,\n",
    "    inputZ02=inputZ02, inputZ02_transform=trans_train,\n",
    "    inputZ03=inputZ03, inputZ03_transform=trans_train,\n",
    "    inputZ04=inputZ04, inputZ04_transform=trans_train,\n",
    "    inputZ05=inputZ05, inputZ05_transform=trans_train,\n",
    "    inputZ06=inputZ06, inputZ06_transform=trans_train,\n",
    "    inputZ07=inputZ07, inputZ07_transform=trans_train,\n",
    "    targetC01=targetC01, targetC01_transform=trans_train,\n",
    "    targetC02=targetC02, targetC02_transform=trans_train,\n",
    "    targetC03=targetC03, targetC03_transform=trans_train,\n",
    "    #roi_size=256, n_samples=8\n",
    ")\n",
    "\n",
    "val_dataset = FlowArrayDataset.FlowArrayDataset(\n",
    "    inputZ01=inputZ01_val, inputZ01_transform=trans_val,\n",
    "    inputZ02=inputZ02_val, inputZ02_transform=trans_val,\n",
    "    inputZ03=inputZ03_val, inputZ03_transform=trans_val,\n",
    "    inputZ04=inputZ04_val, inputZ04_transform=trans_val,\n",
    "    inputZ05=inputZ05_val, inputZ05_transform=trans_val,\n",
    "    inputZ06=inputZ06_val, inputZ06_transform=trans_val,\n",
    "    inputZ07=inputZ07_val, inputZ07_transform=trans_val,\n",
    "    targetC01=targetC01_val, targetC01_transform=trans_val,\n",
    "    targetC02=targetC02_val, targetC02_transform=trans_val,\n",
    "    targetC03=targetC03_val, targetC03_transform=trans_val,\n",
    "    #roi_size=256, n_samples=8\n",
    ")"
   ]
  },
  {
   "cell_type": "code",
   "execution_count": 8,
   "metadata": {},
   "outputs": [],
   "source": [
    "training_loader = DataLoader(\n",
    "    train_dataset,\n",
    "    batch_size=batch_size,\n",
    "    shuffle=False\n",
    "    #num_workers=4 #multiprocessing.cpu_count(),\n",
    ")\n",
    "\n",
    "validation_loader = DataLoader(\n",
    "    val_dataset,\n",
    "    batch_size=batch_size\n",
    "    #num_workers=4 #multiprocessing.cpu_count(),\n",
    ")"
   ]
  },
  {
   "cell_type": "code",
   "execution_count": 9,
   "metadata": {},
   "outputs": [],
   "source": [
    "from monai.utils import first\n",
    "import matplotlib.pyplot as plt"
   ]
  },
  {
   "cell_type": "code",
   "execution_count": 10,
   "metadata": {},
   "outputs": [
    {
     "name": "stdout",
     "output_type": "stream",
     "text": [
      "Here\n",
      "Here\n",
      "Here\n",
      "Here\n",
      "Here\n",
      "Here\n",
      "Here\n",
      "Here\n",
      "Here\n",
      "Here\n"
     ]
    }
   ],
   "source": [
    "loader = DataLoader(train_dataset, batch_size=1, shuffle=True) \n",
    "check_data = first(loader)\n",
    "data_1 = check_data"
   ]
  },
  {
   "cell_type": "code",
   "execution_count": 49,
   "metadata": {
    "collapsed": true,
    "jupyter": {
     "outputs_hidden": true
    }
   },
   "outputs": [
    {
     "data": {
      "text/plain": [
       "['/data/20x_images/AssayPlate_Greiner_#655090_B03_T0001F001L01A04Z01C04.tif',\n",
       " '/data/20x_images/AssayPlate_Greiner_#655090_B03_T0001F002L01A04Z01C04.tif',\n",
       " '/data/20x_images/AssayPlate_Greiner_#655090_B03_T0001F003L01A04Z01C04.tif',\n",
       " '/data/20x_images/AssayPlate_Greiner_#655090_B03_T0001F004L01A04Z01C04.tif',\n",
       " '/data/20x_images/AssayPlate_Greiner_#655090_B03_T0001F005L01A04Z01C04.tif',\n",
       " '/data/20x_images/AssayPlate_Greiner_#655090_B03_T0001F006L01A04Z01C04.tif',\n",
       " '/data/20x_images/AssayPlate_Greiner_#655090_B04_T0001F001L01A04Z01C04.tif',\n",
       " '/data/20x_images/AssayPlate_Greiner_#655090_B04_T0001F002L01A04Z01C04.tif',\n",
       " '/data/20x_images/AssayPlate_Greiner_#655090_B04_T0001F003L01A04Z01C04.tif',\n",
       " '/data/20x_images/AssayPlate_Greiner_#655090_B04_T0001F004L01A04Z01C04.tif',\n",
       " '/data/20x_images/AssayPlate_Greiner_#655090_B04_T0001F005L01A04Z01C04.tif',\n",
       " '/data/20x_images/AssayPlate_Greiner_#655090_B04_T0001F006L01A04Z01C04.tif',\n",
       " '/data/20x_images/AssayPlate_Greiner_#655090_C02_T0001F001L01A04Z01C04.tif',\n",
       " '/data/20x_images/AssayPlate_Greiner_#655090_C02_T0001F002L01A04Z01C04.tif',\n",
       " '/data/20x_images/AssayPlate_Greiner_#655090_C02_T0001F003L01A04Z01C04.tif',\n",
       " '/data/20x_images/AssayPlate_Greiner_#655090_C02_T0001F004L01A04Z01C04.tif',\n",
       " '/data/20x_images/AssayPlate_Greiner_#655090_C02_T0001F005L01A04Z01C04.tif',\n",
       " '/data/20x_images/AssayPlate_Greiner_#655090_C02_T0001F006L01A04Z01C04.tif',\n",
       " '/data/20x_images/AssayPlate_Greiner_#655090_C03_T0001F001L01A04Z01C04.tif',\n",
       " '/data/20x_images/AssayPlate_Greiner_#655090_C03_T0001F002L01A04Z01C04.tif',\n",
       " '/data/20x_images/AssayPlate_Greiner_#655090_C03_T0001F003L01A04Z01C04.tif',\n",
       " '/data/20x_images/AssayPlate_Greiner_#655090_C03_T0001F004L01A04Z01C04.tif',\n",
       " '/data/20x_images/AssayPlate_Greiner_#655090_C03_T0001F005L01A04Z01C04.tif',\n",
       " '/data/20x_images/AssayPlate_Greiner_#655090_C03_T0001F006L01A04Z01C04.tif',\n",
       " '/data/20x_images/AssayPlate_Greiner_#655090_C04_T0001F001L01A04Z01C04.tif',\n",
       " '/data/20x_images/AssayPlate_Greiner_#655090_C04_T0001F002L01A04Z01C04.tif',\n",
       " '/data/20x_images/AssayPlate_Greiner_#655090_C04_T0001F003L01A04Z01C04.tif',\n",
       " '/data/20x_images/AssayPlate_Greiner_#655090_C04_T0001F004L01A04Z01C04.tif',\n",
       " '/data/20x_images/AssayPlate_Greiner_#655090_C04_T0001F005L01A04Z01C04.tif',\n",
       " '/data/20x_images/AssayPlate_Greiner_#655090_C04_T0001F006L01A04Z01C04.tif',\n",
       " '/data/20x_images/AssayPlate_Greiner_#655090_D02_T0001F001L01A04Z01C04.tif',\n",
       " '/data/20x_images/AssayPlate_Greiner_#655090_D02_T0001F002L01A04Z01C04.tif',\n",
       " '/data/20x_images/AssayPlate_Greiner_#655090_D02_T0001F003L01A04Z01C04.tif',\n",
       " '/data/20x_images/AssayPlate_Greiner_#655090_D02_T0001F004L01A04Z01C04.tif',\n",
       " '/data/20x_images/AssayPlate_Greiner_#655090_D02_T0001F005L01A04Z01C04.tif',\n",
       " '/data/20x_images/AssayPlate_Greiner_#655090_D02_T0001F006L01A04Z01C04.tif',\n",
       " '/data/20x_images/AssayPlate_Greiner_#655090_D03_T0001F001L01A04Z01C04.tif',\n",
       " '/data/20x_images/AssayPlate_Greiner_#655090_D03_T0001F002L01A04Z01C04.tif',\n",
       " '/data/20x_images/AssayPlate_Greiner_#655090_D03_T0001F003L01A04Z01C04.tif',\n",
       " '/data/20x_images/AssayPlate_Greiner_#655090_D03_T0001F004L01A04Z01C04.tif',\n",
       " '/data/20x_images/AssayPlate_Greiner_#655090_D03_T0001F005L01A04Z01C04.tif',\n",
       " '/data/20x_images/AssayPlate_Greiner_#655090_D03_T0001F006L01A04Z01C04.tif',\n",
       " '/data/20x_images/AssayPlate_Greiner_#655090_D04_T0001F001L01A04Z01C04.tif',\n",
       " '/data/20x_images/AssayPlate_Greiner_#655090_D04_T0001F002L01A04Z01C04.tif',\n",
       " '/data/20x_images/AssayPlate_Greiner_#655090_D04_T0001F003L01A04Z01C04.tif',\n",
       " '/data/20x_images/AssayPlate_Greiner_#655090_D04_T0001F004L01A04Z01C04.tif',\n",
       " '/data/20x_images/AssayPlate_Greiner_#655090_D04_T0001F005L01A04Z01C04.tif',\n",
       " '/data/20x_images/AssayPlate_Greiner_#655090_D04_T0001F006L01A04Z01C04.tif',\n",
       " '/data/40x_images/AssayPlate_Greiner_#655090_B03_T0001F001L01A04Z01C04.tif',\n",
       " '/data/40x_images/AssayPlate_Greiner_#655090_B03_T0001F002L01A04Z01C04.tif',\n",
       " '/data/40x_images/AssayPlate_Greiner_#655090_B03_T0001F003L01A04Z01C04.tif',\n",
       " '/data/40x_images/AssayPlate_Greiner_#655090_B03_T0001F004L01A04Z01C04.tif',\n",
       " '/data/40x_images/AssayPlate_Greiner_#655090_B03_T0001F005L01A04Z01C04.tif',\n",
       " '/data/40x_images/AssayPlate_Greiner_#655090_B03_T0001F006L01A04Z01C04.tif',\n",
       " '/data/40x_images/AssayPlate_Greiner_#655090_B03_T0001F007L01A04Z01C04.tif',\n",
       " '/data/40x_images/AssayPlate_Greiner_#655090_B03_T0001F008L01A04Z01C04.tif',\n",
       " '/data/40x_images/AssayPlate_Greiner_#655090_B04_T0001F001L01A04Z01C04.tif',\n",
       " '/data/40x_images/AssayPlate_Greiner_#655090_B04_T0001F002L01A04Z01C04.tif',\n",
       " '/data/40x_images/AssayPlate_Greiner_#655090_B04_T0001F003L01A04Z01C04.tif',\n",
       " '/data/40x_images/AssayPlate_Greiner_#655090_B04_T0001F004L01A04Z01C04.tif',\n",
       " '/data/40x_images/AssayPlate_Greiner_#655090_B04_T0001F005L01A04Z01C04.tif',\n",
       " '/data/40x_images/AssayPlate_Greiner_#655090_B04_T0001F006L01A04Z01C04.tif',\n",
       " '/data/40x_images/AssayPlate_Greiner_#655090_B04_T0001F007L01A04Z01C04.tif',\n",
       " '/data/40x_images/AssayPlate_Greiner_#655090_B04_T0001F008L01A04Z01C04.tif',\n",
       " '/data/40x_images/AssayPlate_Greiner_#655090_C02_T0001F001L01A04Z01C04.tif',\n",
       " '/data/40x_images/AssayPlate_Greiner_#655090_C02_T0001F002L01A04Z01C04.tif',\n",
       " '/data/40x_images/AssayPlate_Greiner_#655090_C02_T0001F003L01A04Z01C04.tif',\n",
       " '/data/40x_images/AssayPlate_Greiner_#655090_C02_T0001F004L01A04Z01C04.tif',\n",
       " '/data/40x_images/AssayPlate_Greiner_#655090_C02_T0001F005L01A04Z01C04.tif',\n",
       " '/data/40x_images/AssayPlate_Greiner_#655090_C02_T0001F006L01A04Z01C04.tif',\n",
       " '/data/40x_images/AssayPlate_Greiner_#655090_C02_T0001F007L01A04Z01C04.tif',\n",
       " '/data/40x_images/AssayPlate_Greiner_#655090_C02_T0001F008L01A04Z01C04.tif',\n",
       " '/data/40x_images/AssayPlate_Greiner_#655090_C03_T0001F001L01A04Z01C04.tif',\n",
       " '/data/40x_images/AssayPlate_Greiner_#655090_C03_T0001F002L01A04Z01C04.tif',\n",
       " '/data/40x_images/AssayPlate_Greiner_#655090_C03_T0001F003L01A04Z01C04.tif',\n",
       " '/data/40x_images/AssayPlate_Greiner_#655090_C03_T0001F004L01A04Z01C04.tif',\n",
       " '/data/40x_images/AssayPlate_Greiner_#655090_C03_T0001F005L01A04Z01C04.tif',\n",
       " '/data/40x_images/AssayPlate_Greiner_#655090_C03_T0001F006L01A04Z01C04.tif',\n",
       " '/data/40x_images/AssayPlate_Greiner_#655090_C03_T0001F007L01A04Z01C04.tif',\n",
       " '/data/40x_images/AssayPlate_Greiner_#655090_C03_T0001F008L01A04Z01C04.tif',\n",
       " '/data/40x_images/AssayPlate_Greiner_#655090_C04_T0001F001L01A04Z01C04.tif',\n",
       " '/data/40x_images/AssayPlate_Greiner_#655090_C04_T0001F002L01A04Z01C04.tif',\n",
       " '/data/40x_images/AssayPlate_Greiner_#655090_C04_T0001F003L01A04Z01C04.tif',\n",
       " '/data/40x_images/AssayPlate_Greiner_#655090_C04_T0001F004L01A04Z01C04.tif',\n",
       " '/data/40x_images/AssayPlate_Greiner_#655090_C04_T0001F005L01A04Z01C04.tif',\n",
       " '/data/40x_images/AssayPlate_Greiner_#655090_C04_T0001F006L01A04Z01C04.tif',\n",
       " '/data/40x_images/AssayPlate_Greiner_#655090_C04_T0001F007L01A04Z01C04.tif',\n",
       " '/data/40x_images/AssayPlate_Greiner_#655090_C04_T0001F008L01A04Z01C04.tif',\n",
       " '/data/40x_images/AssayPlate_Greiner_#655090_D02_T0001F001L01A04Z01C04.tif',\n",
       " '/data/40x_images/AssayPlate_Greiner_#655090_D02_T0001F002L01A04Z01C04.tif',\n",
       " '/data/40x_images/AssayPlate_Greiner_#655090_D02_T0001F003L01A04Z01C04.tif',\n",
       " '/data/40x_images/AssayPlate_Greiner_#655090_D02_T0001F004L01A04Z01C04.tif',\n",
       " '/data/40x_images/AssayPlate_Greiner_#655090_D02_T0001F005L01A04Z01C04.tif',\n",
       " '/data/40x_images/AssayPlate_Greiner_#655090_D02_T0001F006L01A04Z01C04.tif',\n",
       " '/data/40x_images/AssayPlate_Greiner_#655090_D02_T0001F007L01A04Z01C04.tif',\n",
       " '/data/40x_images/AssayPlate_Greiner_#655090_D02_T0001F008L01A04Z01C04.tif',\n",
       " '/data/40x_images/AssayPlate_Greiner_#655090_D03_T0001F001L01A04Z01C04.tif',\n",
       " '/data/40x_images/AssayPlate_Greiner_#655090_D03_T0001F002L01A04Z01C04.tif',\n",
       " '/data/40x_images/AssayPlate_Greiner_#655090_D03_T0001F003L01A04Z01C04.tif',\n",
       " '/data/40x_images/AssayPlate_Greiner_#655090_D03_T0001F004L01A04Z01C04.tif',\n",
       " '/data/40x_images/AssayPlate_Greiner_#655090_D03_T0001F005L01A04Z01C04.tif',\n",
       " '/data/40x_images/AssayPlate_Greiner_#655090_D03_T0001F006L01A04Z01C04.tif',\n",
       " '/data/40x_images/AssayPlate_Greiner_#655090_D03_T0001F007L01A04Z01C04.tif',\n",
       " '/data/40x_images/AssayPlate_Greiner_#655090_D03_T0001F008L01A04Z01C04.tif',\n",
       " '/data/40x_images/AssayPlate_Greiner_#655090_D04_T0001F001L01A04Z01C04.tif',\n",
       " '/data/40x_images/AssayPlate_Greiner_#655090_D04_T0001F002L01A04Z01C04.tif',\n",
       " '/data/40x_images/AssayPlate_Greiner_#655090_D04_T0001F003L01A04Z01C04.tif',\n",
       " '/data/40x_images/AssayPlate_Greiner_#655090_D04_T0001F004L01A04Z01C04.tif',\n",
       " '/data/40x_images/AssayPlate_Greiner_#655090_D04_T0001F005L01A04Z01C04.tif',\n",
       " '/data/40x_images/AssayPlate_Greiner_#655090_D04_T0001F006L01A04Z01C04.tif',\n",
       " '/data/40x_images/AssayPlate_Greiner_#655090_D04_T0001F007L01A04Z01C04.tif',\n",
       " '/data/40x_images/AssayPlate_Greiner_#655090_D04_T0001F008L01A04Z01C04.tif',\n",
       " '/data/60x_images/AssayPlate_Greiner_#655090_B03_T0001F001L01A04Z01C04.tif',\n",
       " '/data/60x_images/AssayPlate_Greiner_#655090_B03_T0001F002L01A04Z01C04.tif',\n",
       " '/data/60x_images/AssayPlate_Greiner_#655090_B03_T0001F003L01A04Z01C04.tif',\n",
       " '/data/60x_images/AssayPlate_Greiner_#655090_B03_T0001F004L01A04Z01C04.tif',\n",
       " '/data/60x_images/AssayPlate_Greiner_#655090_B03_T0001F005L01A04Z01C04.tif',\n",
       " '/data/60x_images/AssayPlate_Greiner_#655090_B03_T0001F006L01A04Z01C04.tif',\n",
       " '/data/60x_images/AssayPlate_Greiner_#655090_B03_T0001F007L01A04Z01C04.tif',\n",
       " '/data/60x_images/AssayPlate_Greiner_#655090_B03_T0001F008L01A04Z01C04.tif',\n",
       " '/data/60x_images/AssayPlate_Greiner_#655090_B03_T0001F009L01A04Z01C04.tif',\n",
       " '/data/60x_images/AssayPlate_Greiner_#655090_B03_T0001F010L01A04Z01C04.tif',\n",
       " '/data/60x_images/AssayPlate_Greiner_#655090_B03_T0001F011L01A04Z01C04.tif',\n",
       " '/data/60x_images/AssayPlate_Greiner_#655090_B03_T0001F012L01A04Z01C04.tif',\n",
       " '/data/60x_images/AssayPlate_Greiner_#655090_B04_T0001F001L01A04Z01C04.tif',\n",
       " '/data/60x_images/AssayPlate_Greiner_#655090_B04_T0001F002L01A04Z01C04.tif',\n",
       " '/data/60x_images/AssayPlate_Greiner_#655090_B04_T0001F003L01A04Z01C04.tif',\n",
       " '/data/60x_images/AssayPlate_Greiner_#655090_B04_T0001F004L01A04Z01C04.tif',\n",
       " '/data/60x_images/AssayPlate_Greiner_#655090_B04_T0001F005L01A04Z01C04.tif',\n",
       " '/data/60x_images/AssayPlate_Greiner_#655090_B04_T0001F006L01A04Z01C04.tif',\n",
       " '/data/60x_images/AssayPlate_Greiner_#655090_B04_T0001F007L01A04Z01C04.tif',\n",
       " '/data/60x_images/AssayPlate_Greiner_#655090_B04_T0001F008L01A04Z01C04.tif',\n",
       " '/data/60x_images/AssayPlate_Greiner_#655090_B04_T0001F009L01A04Z01C04.tif',\n",
       " '/data/60x_images/AssayPlate_Greiner_#655090_B04_T0001F010L01A04Z01C04.tif',\n",
       " '/data/60x_images/AssayPlate_Greiner_#655090_B04_T0001F011L01A04Z01C04.tif',\n",
       " '/data/60x_images/AssayPlate_Greiner_#655090_B04_T0001F012L01A04Z01C04.tif',\n",
       " '/data/60x_images/AssayPlate_Greiner_#655090_C02_T0001F001L01A04Z01C04.tif',\n",
       " '/data/60x_images/AssayPlate_Greiner_#655090_C02_T0001F002L01A04Z01C04.tif',\n",
       " '/data/60x_images/AssayPlate_Greiner_#655090_C02_T0001F003L01A04Z01C04.tif',\n",
       " '/data/60x_images/AssayPlate_Greiner_#655090_C02_T0001F004L01A04Z01C04.tif',\n",
       " '/data/60x_images/AssayPlate_Greiner_#655090_C02_T0001F005L01A04Z01C04.tif',\n",
       " '/data/60x_images/AssayPlate_Greiner_#655090_C02_T0001F006L01A04Z01C04.tif',\n",
       " '/data/60x_images/AssayPlate_Greiner_#655090_C02_T0001F007L01A04Z01C04.tif',\n",
       " '/data/60x_images/AssayPlate_Greiner_#655090_C02_T0001F008L01A04Z01C04.tif',\n",
       " '/data/60x_images/AssayPlate_Greiner_#655090_C02_T0001F009L01A04Z01C04.tif',\n",
       " '/data/60x_images/AssayPlate_Greiner_#655090_C02_T0001F010L01A04Z01C04.tif',\n",
       " '/data/60x_images/AssayPlate_Greiner_#655090_C02_T0001F011L01A04Z01C04.tif',\n",
       " '/data/60x_images/AssayPlate_Greiner_#655090_C02_T0001F012L01A04Z01C04.tif',\n",
       " '/data/60x_images/AssayPlate_Greiner_#655090_C03_T0001F001L01A04Z01C04.tif',\n",
       " '/data/60x_images/AssayPlate_Greiner_#655090_C03_T0001F002L01A04Z01C04.tif',\n",
       " '/data/60x_images/AssayPlate_Greiner_#655090_C03_T0001F003L01A04Z01C04.tif',\n",
       " '/data/60x_images/AssayPlate_Greiner_#655090_C03_T0001F004L01A04Z01C04.tif',\n",
       " '/data/60x_images/AssayPlate_Greiner_#655090_C03_T0001F005L01A04Z01C04.tif',\n",
       " '/data/60x_images/AssayPlate_Greiner_#655090_C03_T0001F006L01A04Z01C04.tif',\n",
       " '/data/60x_images/AssayPlate_Greiner_#655090_C03_T0001F007L01A04Z01C04.tif',\n",
       " '/data/60x_images/AssayPlate_Greiner_#655090_C03_T0001F008L01A04Z01C04.tif',\n",
       " '/data/60x_images/AssayPlate_Greiner_#655090_C03_T0001F009L01A04Z01C04.tif',\n",
       " '/data/60x_images/AssayPlate_Greiner_#655090_C03_T0001F010L01A04Z01C04.tif',\n",
       " '/data/60x_images/AssayPlate_Greiner_#655090_C03_T0001F011L01A04Z01C04.tif',\n",
       " '/data/60x_images/AssayPlate_Greiner_#655090_C03_T0001F012L01A04Z01C04.tif',\n",
       " '/data/60x_images/AssayPlate_Greiner_#655090_C04_T0001F001L01A04Z01C04.tif',\n",
       " '/data/60x_images/AssayPlate_Greiner_#655090_C04_T0001F002L01A04Z01C04.tif',\n",
       " '/data/60x_images/AssayPlate_Greiner_#655090_C04_T0001F003L01A04Z01C04.tif',\n",
       " '/data/60x_images/AssayPlate_Greiner_#655090_C04_T0001F004L01A04Z01C04.tif',\n",
       " '/data/60x_images/AssayPlate_Greiner_#655090_C04_T0001F005L01A04Z01C04.tif',\n",
       " '/data/60x_images/AssayPlate_Greiner_#655090_C04_T0001F006L01A04Z01C04.tif',\n",
       " '/data/60x_images/AssayPlate_Greiner_#655090_C04_T0001F007L01A04Z01C04.tif',\n",
       " '/data/60x_images/AssayPlate_Greiner_#655090_C04_T0001F008L01A04Z01C04.tif',\n",
       " '/data/60x_images/AssayPlate_Greiner_#655090_C04_T0001F009L01A04Z01C04.tif',\n",
       " '/data/60x_images/AssayPlate_Greiner_#655090_C04_T0001F010L01A04Z01C04.tif',\n",
       " '/data/60x_images/AssayPlate_Greiner_#655090_C04_T0001F011L01A04Z01C04.tif',\n",
       " '/data/60x_images/AssayPlate_Greiner_#655090_C04_T0001F012L01A04Z01C04.tif',\n",
       " '/data/60x_images/AssayPlate_Greiner_#655090_D02_T0001F001L01A04Z01C04.tif',\n",
       " '/data/60x_images/AssayPlate_Greiner_#655090_D02_T0001F002L01A04Z01C04.tif',\n",
       " '/data/60x_images/AssayPlate_Greiner_#655090_D02_T0001F003L01A04Z01C04.tif',\n",
       " '/data/60x_images/AssayPlate_Greiner_#655090_D02_T0001F004L01A04Z01C04.tif',\n",
       " '/data/60x_images/AssayPlate_Greiner_#655090_D02_T0001F005L01A04Z01C04.tif',\n",
       " '/data/60x_images/AssayPlate_Greiner_#655090_D02_T0001F006L01A04Z01C04.tif',\n",
       " '/data/60x_images/AssayPlate_Greiner_#655090_D02_T0001F007L01A04Z01C04.tif',\n",
       " '/data/60x_images/AssayPlate_Greiner_#655090_D02_T0001F008L01A04Z01C04.tif',\n",
       " '/data/60x_images/AssayPlate_Greiner_#655090_D02_T0001F009L01A04Z01C04.tif',\n",
       " '/data/60x_images/AssayPlate_Greiner_#655090_D02_T0001F010L01A04Z01C04.tif',\n",
       " '/data/60x_images/AssayPlate_Greiner_#655090_D02_T0001F011L01A04Z01C04.tif',\n",
       " '/data/60x_images/AssayPlate_Greiner_#655090_D02_T0001F012L01A04Z01C04.tif',\n",
       " '/data/60x_images/AssayPlate_Greiner_#655090_D03_T0001F001L01A04Z01C04.tif',\n",
       " '/data/60x_images/AssayPlate_Greiner_#655090_D03_T0001F002L01A04Z01C04.tif',\n",
       " '/data/60x_images/AssayPlate_Greiner_#655090_D03_T0001F003L01A04Z01C04.tif',\n",
       " '/data/60x_images/AssayPlate_Greiner_#655090_D03_T0001F004L01A04Z01C04.tif',\n",
       " '/data/60x_images/AssayPlate_Greiner_#655090_D03_T0001F005L01A04Z01C04.tif',\n",
       " '/data/60x_images/AssayPlate_Greiner_#655090_D03_T0001F006L01A04Z01C04.tif',\n",
       " '/data/60x_images/AssayPlate_Greiner_#655090_D03_T0001F007L01A04Z01C04.tif',\n",
       " '/data/60x_images/AssayPlate_Greiner_#655090_D03_T0001F008L01A04Z01C04.tif',\n",
       " '/data/60x_images/AssayPlate_Greiner_#655090_D03_T0001F009L01A04Z01C04.tif',\n",
       " '/data/60x_images/AssayPlate_Greiner_#655090_D03_T0001F010L01A04Z01C04.tif',\n",
       " '/data/60x_images/AssayPlate_Greiner_#655090_D03_T0001F011L01A04Z01C04.tif',\n",
       " '/data/60x_images/AssayPlate_Greiner_#655090_D03_T0001F012L01A04Z01C04.tif',\n",
       " '/data/60x_images/AssayPlate_Greiner_#655090_D04_T0001F001L01A04Z01C04.tif',\n",
       " '/data/60x_images/AssayPlate_Greiner_#655090_D04_T0001F002L01A04Z01C04.tif',\n",
       " '/data/60x_images/AssayPlate_Greiner_#655090_D04_T0001F003L01A04Z01C04.tif',\n",
       " '/data/60x_images/AssayPlate_Greiner_#655090_D04_T0001F004L01A04Z01C04.tif',\n",
       " '/data/60x_images/AssayPlate_Greiner_#655090_D04_T0001F005L01A04Z01C04.tif',\n",
       " '/data/60x_images/AssayPlate_Greiner_#655090_D04_T0001F006L01A04Z01C04.tif',\n",
       " '/data/60x_images/AssayPlate_Greiner_#655090_D04_T0001F007L01A04Z01C04.tif',\n",
       " '/data/60x_images/AssayPlate_Greiner_#655090_D04_T0001F008L01A04Z01C04.tif',\n",
       " '/data/60x_images/AssayPlate_Greiner_#655090_D04_T0001F009L01A04Z01C04.tif',\n",
       " '/data/60x_images/AssayPlate_Greiner_#655090_D04_T0001F010L01A04Z01C04.tif',\n",
       " '/data/60x_images/AssayPlate_Greiner_#655090_D04_T0001F011L01A04Z01C04.tif',\n",
       " '/data/60x_images/AssayPlate_Greiner_#655090_D04_T0001F012L01A04Z01C04.tif']"
      ]
     },
     "execution_count": 49,
     "metadata": {},
     "output_type": "execute_result"
    }
   ],
   "source": [
    "inputZ01_path"
   ]
  },
  {
   "cell_type": "code",
   "execution_count": 11,
   "metadata": {},
   "outputs": [
    {
     "data": {
      "text/plain": [
       "torch.Size([1, 1, 256, 256])"
      ]
     },
     "execution_count": 11,
     "metadata": {},
     "output_type": "execute_result"
    }
   ],
   "source": [
    "data_1[0].shape"
   ]
  },
  {
   "cell_type": "code",
   "execution_count": 22,
   "metadata": {},
   "outputs": [
    {
     "data": {
      "text/plain": [
       "<matplotlib.image.AxesImage at 0x7ff0d078d9e8>"
      ]
     },
     "execution_count": 22,
     "metadata": {},
     "output_type": "execute_result"
    },
    {
     "data": {
      "image/png": "[encoded data removed]",
      "text/plain": [
       "<Figure size 432x288 with 1 Axes>"
      ]
     },
     "metadata": {
      "needs_background": "light"
     },
     "output_type": "display_data"
    }
   ],
   "source": [
    "plt.imshow(data_1[0][0,0,:,:])"
   ]
  },
  {
   "cell_type": "code",
   "execution_count": 12,
   "metadata": {},
   "outputs": [],
   "source": [
    "# load model / criterion / optimizer\n",
    "netG = GeneratorUnet().to(device)\n",
    "# print(netG)\n",
    "netD = Discriminator().to(device)"
   ]
  },
  {
   "cell_type": "code",
   "execution_count": 13,
   "metadata": {},
   "outputs": [],
   "source": [
    "mseloss = nn.MSELoss()\n",
    "bceloss = nn.BCELoss()\n",
    "#vggloss = VGGLoss()\n",
    "\n",
    "optimizerG = optim.Adam(netG.parameters())\n",
    "optimizerD = optim.Adam(netD.parameters())"
   ]
  },
  {
   "cell_type": "code",
   "execution_count": 15,
   "metadata": {
    "collapsed": true,
    "jupyter": {
     "outputs_hidden": true
    }
   },
   "outputs": [
    {
     "name": "stdout",
     "output_type": "stream",
     "text": [
      "Loading checkpoint: None\n"
     ]
    },
    {
     "ename": "TypeError",
     "evalue": "expected str, bytes or os.PathLike object, not NoneType",
     "output_type": "error",
     "traceback": [
      "\u001b[0;31m---------------------------------------------------------------------------\u001b[0m",
      "\u001b[0;31mTypeError\u001b[0m                                 Traceback (most recent call last)",
      "\u001b[0;32m<ipython-input-15-255948ea9d04>\u001b[0m in \u001b[0;36m<module>\u001b[0;34m\u001b[0m\n\u001b[1;32m     20\u001b[0m \u001b[0;34m\u001b[0m\u001b[0m\n\u001b[1;32m     21\u001b[0m \u001b[0mprint\u001b[0m\u001b[0;34m(\u001b[0m\u001b[0;34mf'Loading checkpoint: {load_weight_dir}'\u001b[0m\u001b[0;34m)\u001b[0m\u001b[0;34m\u001b[0m\u001b[0;34m\u001b[0m\u001b[0m\n\u001b[0;32m---> 22\u001b[0;31m \u001b[0mpath_to_saved_weight\u001b[0m \u001b[0;34m=\u001b[0m \u001b[0mos\u001b[0m\u001b[0;34m.\u001b[0m\u001b[0mpath\u001b[0m\u001b[0;34m.\u001b[0m\u001b[0mjoin\u001b[0m\u001b[0;34m(\u001b[0m\u001b[0mload_weight_dir\u001b[0m\u001b[0;34m)\u001b[0m\u001b[0;34m\u001b[0m\u001b[0;34m\u001b[0m\u001b[0m\n\u001b[0m\u001b[1;32m     23\u001b[0m \u001b[0mcheckpoint\u001b[0m \u001b[0;34m=\u001b[0m \u001b[0mtorch\u001b[0m\u001b[0;34m.\u001b[0m\u001b[0mload\u001b[0m\u001b[0;34m(\u001b[0m\u001b[0mpath_to_saved_weight\u001b[0m\u001b[0;34m)\u001b[0m  \u001b[0;31m# when you are loading weights saved on gpu device\u001b[0m\u001b[0;34m\u001b[0m\u001b[0;34m\u001b[0m\u001b[0m\n\u001b[1;32m     24\u001b[0m \u001b[0mnetG\u001b[0m\u001b[0;34m.\u001b[0m\u001b[0mload_state_dict\u001b[0m\u001b[0;34m(\u001b[0m\u001b[0mcheckpoint\u001b[0m\u001b[0;34m[\u001b[0m\u001b[0;34m'model_state_dict'\u001b[0m\u001b[0;34m]\u001b[0m\u001b[0;34m)\u001b[0m\u001b[0;34m\u001b[0m\u001b[0;34m\u001b[0m\u001b[0m\n",
      "\u001b[0;32m/opt/conda/lib/python3.6/posixpath.py\u001b[0m in \u001b[0;36mjoin\u001b[0;34m(a, *p)\u001b[0m\n\u001b[1;32m     78\u001b[0m     \u001b[0mwill\u001b[0m \u001b[0mbe\u001b[0m \u001b[0mdiscarded\u001b[0m\u001b[0;34m.\u001b[0m  \u001b[0mAn\u001b[0m \u001b[0mempty\u001b[0m \u001b[0mlast\u001b[0m \u001b[0mpart\u001b[0m \u001b[0mwill\u001b[0m \u001b[0mresult\u001b[0m \u001b[0;32min\u001b[0m \u001b[0ma\u001b[0m \u001b[0mpath\u001b[0m \u001b[0mthat\u001b[0m\u001b[0;34m\u001b[0m\u001b[0;34m\u001b[0m\u001b[0m\n\u001b[1;32m     79\u001b[0m     ends with a separator.\"\"\"\n\u001b[0;32m---> 80\u001b[0;31m     \u001b[0ma\u001b[0m \u001b[0;34m=\u001b[0m \u001b[0mos\u001b[0m\u001b[0;34m.\u001b[0m\u001b[0mfspath\u001b[0m\u001b[0;34m(\u001b[0m\u001b[0ma\u001b[0m\u001b[0;34m)\u001b[0m\u001b[0;34m\u001b[0m\u001b[0;34m\u001b[0m\u001b[0m\n\u001b[0m\u001b[1;32m     81\u001b[0m     \u001b[0msep\u001b[0m \u001b[0;34m=\u001b[0m \u001b[0m_get_sep\u001b[0m\u001b[0;34m(\u001b[0m\u001b[0ma\u001b[0m\u001b[0;34m)\u001b[0m\u001b[0;34m\u001b[0m\u001b[0;34m\u001b[0m\u001b[0m\n\u001b[1;32m     82\u001b[0m     \u001b[0mpath\u001b[0m \u001b[0;34m=\u001b[0m \u001b[0ma\u001b[0m\u001b[0;34m\u001b[0m\u001b[0;34m\u001b[0m\u001b[0m\n",
      "\u001b[0;31mTypeError\u001b[0m: expected str, bytes or os.PathLike object, not NoneType"
     ]
    }
   ],
   "source": [
    "# load weight if load_weight_dir is defined\n",
    "\n",
    "if load_weight_dir is not None:\n",
    "    \n",
    "    path_to_saved_weight = os.path.join(load_weight_dir)\n",
    "    checkpoint = torch.load(path_to_saved_weight)  # when you are loading weights saved on gpu device\n",
    "    netG.load_state_dict(checkpoint['model_state_dict'])\n",
    "    print(f'Loading checkpoint: {load_weight_dir}')\n",
    "    # path_to_saved_weight = os.path.join(load_weight_dir)\n",
    "    #checkpoint = torch.load(load_weight_dir) \n",
    "    #netG.load_state_dict(checkpoint['model_state_dict'])\n",
    "    \n",
    "    #checkpoint = torch.load(load_weight_dir)\n",
    "    #netG.load_state_dict(checkpoint['model_state_dict'])\n",
    "    #optimizerG.load_state_dict(checkpoint['optimizer_state_dict'])\n",
    "    #init_epoch = checkpoint['epoch']\n",
    "    #loss = checkpoint['loss']\n",
    "else:\n",
    "    init_epoch = 0\n",
    "    \n",
    "print(f'Loading checkpoint: {load_weight_dir}')\n",
    "path_to_saved_weight = os.path.join(load_weight_dir)\n",
    "checkpoint = torch.load(path_to_saved_weight)  # when you are loading weights saved on gpu device\n",
    "netG.load_state_dict(checkpoint['model_state_dict'])"
   ]
  },
  {
   "cell_type": "code",
   "execution_count": 14,
   "metadata": {
    "collapsed": true,
    "jupyter": {
     "outputs_hidden": true
    }
   },
   "outputs": [
    {
     "name": "stderr",
     "output_type": "stream",
     "text": [
      "  0%|          | 0/145 [00:00<?, ?it/s]"
     ]
    },
    {
     "name": "stdout",
     "output_type": "stream",
     "text": [
      "pre-training Generator for 10 epochs\n"
     ]
    },
    {
     "name": "stderr",
     "output_type": "stream",
     "text": [
      "  4%|▍         | 6/145 [00:46<17:38,  7.61s/it]"
     ]
    },
    {
     "ename": "KeyboardInterrupt",
     "evalue": "",
     "output_type": "error",
     "traceback": [
      "\u001b[0;31m---------------------------------------------------------------------------\u001b[0m",
      "\u001b[0;31mKeyboardInterrupt\u001b[0m                         Traceback (most recent call last)",
      "\u001b[0;32m<ipython-input-14-4df0a1221f47>\u001b[0m in \u001b[0;36m<module>\u001b[0;34m\u001b[0m\n\u001b[1;32m     11\u001b[0m         \u001b[0mnetG\u001b[0m\u001b[0;34m.\u001b[0m\u001b[0mtrain\u001b[0m\u001b[0;34m(\u001b[0m\u001b[0;34m)\u001b[0m\u001b[0;34m\u001b[0m\u001b[0;34m\u001b[0m\u001b[0m\n\u001b[1;32m     12\u001b[0m \u001b[0;34m\u001b[0m\u001b[0m\n\u001b[0;32m---> 13\u001b[0;31m         \u001b[0;32mfor\u001b[0m \u001b[0mbatch_index\u001b[0m\u001b[0;34m,\u001b[0m \u001b[0mbatch\u001b[0m \u001b[0;32min\u001b[0m \u001b[0menumerate\u001b[0m\u001b[0;34m(\u001b[0m\u001b[0mtqdm\u001b[0m\u001b[0;34m(\u001b[0m\u001b[0mtraining_loader\u001b[0m\u001b[0;34m)\u001b[0m\u001b[0;34m)\u001b[0m\u001b[0;34m:\u001b[0m\u001b[0;34m\u001b[0m\u001b[0;34m\u001b[0m\u001b[0m\n\u001b[0m\u001b[1;32m     14\u001b[0m             \u001b[0minputZ01\u001b[0m\u001b[0;34m,\u001b[0m \u001b[0minputZ02\u001b[0m\u001b[0;34m,\u001b[0m \u001b[0minputZ03\u001b[0m\u001b[0;34m,\u001b[0m \u001b[0minputZ04\u001b[0m\u001b[0;34m,\u001b[0m \u001b[0minputZ05\u001b[0m\u001b[0;34m,\u001b[0m \u001b[0minputZ06\u001b[0m\u001b[0;34m,\u001b[0m \u001b[0minputZ07\u001b[0m \u001b[0;34m=\u001b[0m\u001b[0;31m \u001b[0m\u001b[0;31m\\\u001b[0m\u001b[0;34m\u001b[0m\u001b[0;34m\u001b[0m\u001b[0m\n\u001b[1;32m     15\u001b[0m                 \u001b[0mbatch\u001b[0m\u001b[0;34m[\u001b[0m\u001b[0;36m0\u001b[0m\u001b[0;34m]\u001b[0m\u001b[0;34m.\u001b[0m\u001b[0mto\u001b[0m\u001b[0;34m(\u001b[0m\u001b[0mdevice\u001b[0m\u001b[0;34m)\u001b[0m\u001b[0;34m,\u001b[0m \u001b[0mbatch\u001b[0m\u001b[0;34m[\u001b[0m\u001b[0;36m1\u001b[0m\u001b[0;34m]\u001b[0m\u001b[0;34m.\u001b[0m\u001b[0mto\u001b[0m\u001b[0;34m(\u001b[0m\u001b[0mdevice\u001b[0m\u001b[0;34m)\u001b[0m\u001b[0;34m,\u001b[0m \u001b[0mbatch\u001b[0m\u001b[0;34m[\u001b[0m\u001b[0;36m2\u001b[0m\u001b[0;34m]\u001b[0m\u001b[0;34m.\u001b[0m\u001b[0mto\u001b[0m\u001b[0;34m(\u001b[0m\u001b[0mdevice\u001b[0m\u001b[0;34m)\u001b[0m\u001b[0;34m,\u001b[0m\u001b[0;31m \u001b[0m\u001b[0;31m\\\u001b[0m\u001b[0;34m\u001b[0m\u001b[0;34m\u001b[0m\u001b[0m\n",
      "\u001b[0;32m/opt/conda/lib/python3.6/site-packages/tqdm/_tqdm.py\u001b[0m in \u001b[0;36m__iter__\u001b[0;34m(self)\u001b[0m\n\u001b[1;32m   1020\u001b[0m                 \"\"\"), fp_write=getattr(self.fp, 'write', sys.stderr.write))\n\u001b[1;32m   1021\u001b[0m \u001b[0;34m\u001b[0m\u001b[0m\n\u001b[0;32m-> 1022\u001b[0;31m             \u001b[0;32mfor\u001b[0m \u001b[0mobj\u001b[0m \u001b[0;32min\u001b[0m \u001b[0miterable\u001b[0m\u001b[0;34m:\u001b[0m\u001b[0;34m\u001b[0m\u001b[0;34m\u001b[0m\u001b[0m\n\u001b[0m\u001b[1;32m   1023\u001b[0m                 \u001b[0;32myield\u001b[0m \u001b[0mobj\u001b[0m\u001b[0;34m\u001b[0m\u001b[0;34m\u001b[0m\u001b[0m\n\u001b[1;32m   1024\u001b[0m                 \u001b[0;31m# Update and possibly print the progressbar.\u001b[0m\u001b[0;34m\u001b[0m\u001b[0;34m\u001b[0m\u001b[0;34m\u001b[0m\u001b[0m\n",
      "\u001b[0;32m/opt/conda/lib/python3.6/site-packages/torch/utils/data/dataloader.py\u001b[0m in \u001b[0;36m__next__\u001b[0;34m(self)\u001b[0m\n\u001b[1;32m    433\u001b[0m         \u001b[0;32mif\u001b[0m \u001b[0mself\u001b[0m\u001b[0;34m.\u001b[0m\u001b[0m_sampler_iter\u001b[0m \u001b[0;32mis\u001b[0m \u001b[0;32mNone\u001b[0m\u001b[0;34m:\u001b[0m\u001b[0;34m\u001b[0m\u001b[0;34m\u001b[0m\u001b[0m\n\u001b[1;32m    434\u001b[0m             \u001b[0mself\u001b[0m\u001b[0;34m.\u001b[0m\u001b[0m_reset\u001b[0m\u001b[0;34m(\u001b[0m\u001b[0;34m)\u001b[0m\u001b[0;34m\u001b[0m\u001b[0;34m\u001b[0m\u001b[0m\n\u001b[0;32m--> 435\u001b[0;31m         \u001b[0mdata\u001b[0m \u001b[0;34m=\u001b[0m \u001b[0mself\u001b[0m\u001b[0;34m.\u001b[0m\u001b[0m_next_data\u001b[0m\u001b[0;34m(\u001b[0m\u001b[0;34m)\u001b[0m\u001b[0;34m\u001b[0m\u001b[0;34m\u001b[0m\u001b[0m\n\u001b[0m\u001b[1;32m    436\u001b[0m         \u001b[0mself\u001b[0m\u001b[0;34m.\u001b[0m\u001b[0m_num_yielded\u001b[0m \u001b[0;34m+=\u001b[0m \u001b[0;36m1\u001b[0m\u001b[0;34m\u001b[0m\u001b[0;34m\u001b[0m\u001b[0m\n\u001b[1;32m    437\u001b[0m         \u001b[0;32mif\u001b[0m \u001b[0mself\u001b[0m\u001b[0;34m.\u001b[0m\u001b[0m_dataset_kind\u001b[0m \u001b[0;34m==\u001b[0m \u001b[0m_DatasetKind\u001b[0m\u001b[0;34m.\u001b[0m\u001b[0mIterable\u001b[0m \u001b[0;32mand\u001b[0m\u001b[0;31m \u001b[0m\u001b[0;31m\\\u001b[0m\u001b[0;34m\u001b[0m\u001b[0;34m\u001b[0m\u001b[0m\n",
      "\u001b[0;32m/opt/conda/lib/python3.6/site-packages/torch/utils/data/dataloader.py\u001b[0m in \u001b[0;36m_next_data\u001b[0;34m(self)\u001b[0m\n\u001b[1;32m    473\u001b[0m     \u001b[0;32mdef\u001b[0m \u001b[0m_next_data\u001b[0m\u001b[0;34m(\u001b[0m\u001b[0mself\u001b[0m\u001b[0;34m)\u001b[0m\u001b[0;34m:\u001b[0m\u001b[0;34m\u001b[0m\u001b[0;34m\u001b[0m\u001b[0m\n\u001b[1;32m    474\u001b[0m         \u001b[0mindex\u001b[0m \u001b[0;34m=\u001b[0m \u001b[0mself\u001b[0m\u001b[0;34m.\u001b[0m\u001b[0m_next_index\u001b[0m\u001b[0;34m(\u001b[0m\u001b[0;34m)\u001b[0m  \u001b[0;31m# may raise StopIteration\u001b[0m\u001b[0;34m\u001b[0m\u001b[0;34m\u001b[0m\u001b[0m\n\u001b[0;32m--> 475\u001b[0;31m         \u001b[0mdata\u001b[0m \u001b[0;34m=\u001b[0m \u001b[0mself\u001b[0m\u001b[0;34m.\u001b[0m\u001b[0m_dataset_fetcher\u001b[0m\u001b[0;34m.\u001b[0m\u001b[0mfetch\u001b[0m\u001b[0;34m(\u001b[0m\u001b[0mindex\u001b[0m\u001b[0;34m)\u001b[0m  \u001b[0;31m# may raise StopIteration\u001b[0m\u001b[0;34m\u001b[0m\u001b[0;34m\u001b[0m\u001b[0m\n\u001b[0m\u001b[1;32m    476\u001b[0m         \u001b[0;32mif\u001b[0m \u001b[0mself\u001b[0m\u001b[0;34m.\u001b[0m\u001b[0m_pin_memory\u001b[0m\u001b[0;34m:\u001b[0m\u001b[0;34m\u001b[0m\u001b[0;34m\u001b[0m\u001b[0m\n\u001b[1;32m    477\u001b[0m             \u001b[0mdata\u001b[0m \u001b[0;34m=\u001b[0m \u001b[0m_utils\u001b[0m\u001b[0;34m.\u001b[0m\u001b[0mpin_memory\u001b[0m\u001b[0;34m.\u001b[0m\u001b[0mpin_memory\u001b[0m\u001b[0;34m(\u001b[0m\u001b[0mdata\u001b[0m\u001b[0;34m)\u001b[0m\u001b[0;34m\u001b[0m\u001b[0;34m\u001b[0m\u001b[0m\n",
      "\u001b[0;32m/opt/conda/lib/python3.6/site-packages/torch/utils/data/_utils/fetch.py\u001b[0m in \u001b[0;36mfetch\u001b[0;34m(self, possibly_batched_index)\u001b[0m\n\u001b[1;32m     42\u001b[0m     \u001b[0;32mdef\u001b[0m \u001b[0mfetch\u001b[0m\u001b[0;34m(\u001b[0m\u001b[0mself\u001b[0m\u001b[0;34m,\u001b[0m \u001b[0mpossibly_batched_index\u001b[0m\u001b[0;34m)\u001b[0m\u001b[0;34m:\u001b[0m\u001b[0;34m\u001b[0m\u001b[0;34m\u001b[0m\u001b[0m\n\u001b[1;32m     43\u001b[0m         \u001b[0;32mif\u001b[0m \u001b[0mself\u001b[0m\u001b[0;34m.\u001b[0m\u001b[0mauto_collation\u001b[0m\u001b[0;34m:\u001b[0m\u001b[0;34m\u001b[0m\u001b[0;34m\u001b[0m\u001b[0m\n\u001b[0;32m---> 44\u001b[0;31m             \u001b[0mdata\u001b[0m \u001b[0;34m=\u001b[0m \u001b[0;34m[\u001b[0m\u001b[0mself\u001b[0m\u001b[0;34m.\u001b[0m\u001b[0mdataset\u001b[0m\u001b[0;34m[\u001b[0m\u001b[0midx\u001b[0m\u001b[0;34m]\u001b[0m \u001b[0;32mfor\u001b[0m \u001b[0midx\u001b[0m \u001b[0;32min\u001b[0m \u001b[0mpossibly_batched_index\u001b[0m\u001b[0;34m]\u001b[0m\u001b[0;34m\u001b[0m\u001b[0;34m\u001b[0m\u001b[0m\n\u001b[0m\u001b[1;32m     45\u001b[0m         \u001b[0;32melse\u001b[0m\u001b[0;34m:\u001b[0m\u001b[0;34m\u001b[0m\u001b[0;34m\u001b[0m\u001b[0m\n\u001b[1;32m     46\u001b[0m             \u001b[0mdata\u001b[0m \u001b[0;34m=\u001b[0m \u001b[0mself\u001b[0m\u001b[0;34m.\u001b[0m\u001b[0mdataset\u001b[0m\u001b[0;34m[\u001b[0m\u001b[0mpossibly_batched_index\u001b[0m\u001b[0;34m]\u001b[0m\u001b[0;34m\u001b[0m\u001b[0;34m\u001b[0m\u001b[0m\n",
      "\u001b[0;32m/opt/conda/lib/python3.6/site-packages/torch/utils/data/_utils/fetch.py\u001b[0m in \u001b[0;36m<listcomp>\u001b[0;34m(.0)\u001b[0m\n\u001b[1;32m     42\u001b[0m     \u001b[0;32mdef\u001b[0m \u001b[0mfetch\u001b[0m\u001b[0;34m(\u001b[0m\u001b[0mself\u001b[0m\u001b[0;34m,\u001b[0m \u001b[0mpossibly_batched_index\u001b[0m\u001b[0;34m)\u001b[0m\u001b[0;34m:\u001b[0m\u001b[0;34m\u001b[0m\u001b[0;34m\u001b[0m\u001b[0m\n\u001b[1;32m     43\u001b[0m         \u001b[0;32mif\u001b[0m \u001b[0mself\u001b[0m\u001b[0;34m.\u001b[0m\u001b[0mauto_collation\u001b[0m\u001b[0;34m:\u001b[0m\u001b[0;34m\u001b[0m\u001b[0;34m\u001b[0m\u001b[0m\n\u001b[0;32m---> 44\u001b[0;31m             \u001b[0mdata\u001b[0m \u001b[0;34m=\u001b[0m \u001b[0;34m[\u001b[0m\u001b[0mself\u001b[0m\u001b[0;34m.\u001b[0m\u001b[0mdataset\u001b[0m\u001b[0;34m[\u001b[0m\u001b[0midx\u001b[0m\u001b[0;34m]\u001b[0m \u001b[0;32mfor\u001b[0m \u001b[0midx\u001b[0m \u001b[0;32min\u001b[0m \u001b[0mpossibly_batched_index\u001b[0m\u001b[0;34m]\u001b[0m\u001b[0;34m\u001b[0m\u001b[0;34m\u001b[0m\u001b[0m\n\u001b[0m\u001b[1;32m     45\u001b[0m         \u001b[0;32melse\u001b[0m\u001b[0;34m:\u001b[0m\u001b[0;34m\u001b[0m\u001b[0;34m\u001b[0m\u001b[0m\n\u001b[1;32m     46\u001b[0m             \u001b[0mdata\u001b[0m \u001b[0;34m=\u001b[0m \u001b[0mself\u001b[0m\u001b[0;34m.\u001b[0m\u001b[0mdataset\u001b[0m\u001b[0;34m[\u001b[0m\u001b[0mpossibly_batched_index\u001b[0m\u001b[0;34m]\u001b[0m\u001b[0;34m\u001b[0m\u001b[0;34m\u001b[0m\u001b[0m\n",
      "\u001b[0;32m/workspace/FlowPatchArrayDataset.py\u001b[0m in \u001b[0;36m__getitem__\u001b[0;34m(self, index)\u001b[0m\n\u001b[1;32m    121\u001b[0m             \u001b[0mtransform\u001b[0m\u001b[0;34m.\u001b[0m\u001b[0mset_random_state\u001b[0m\u001b[0;34m(\u001b[0m\u001b[0mseed\u001b[0m\u001b[0;34m=\u001b[0m\u001b[0mself\u001b[0m\u001b[0;34m.\u001b[0m\u001b[0m_seed\u001b[0m\u001b[0;34m)\u001b[0m\u001b[0;34m\u001b[0m\u001b[0;34m\u001b[0m\u001b[0m\n\u001b[1;32m    122\u001b[0m             \u001b[0mpatch_func\u001b[0m\u001b[0;34m.\u001b[0m\u001b[0mset_random_state\u001b[0m\u001b[0;34m(\u001b[0m\u001b[0mseed\u001b[0m\u001b[0;34m=\u001b[0m\u001b[0mself\u001b[0m\u001b[0;34m.\u001b[0m\u001b[0m_seed\u001b[0m\u001b[0;34m)\u001b[0m\u001b[0;34m\u001b[0m\u001b[0;34m\u001b[0m\u001b[0m\n\u001b[0;32m--> 123\u001b[0;31m         \u001b[0;32mreturn\u001b[0m \u001b[0mself\u001b[0m\u001b[0;34m.\u001b[0m\u001b[0mdataset\u001b[0m\u001b[0;34m[\u001b[0m\u001b[0mindex\u001b[0m\u001b[0;34m]\u001b[0m\u001b[0;34m\u001b[0m\u001b[0;34m\u001b[0m\u001b[0m\n\u001b[0m",
      "\u001b[0;32m/opt/conda/lib/python3.6/site-packages/monai/data/dataset.py\u001b[0m in \u001b[0;36m__getitem__\u001b[0;34m(self, index)\u001b[0m\n\u001b[1;32m    620\u001b[0m         \u001b[0mdata\u001b[0m \u001b[0;34m=\u001b[0m \u001b[0mlist\u001b[0m\u001b[0;34m(\u001b[0m\u001b[0;34m)\u001b[0m\u001b[0;34m\u001b[0m\u001b[0;34m\u001b[0m\u001b[0m\n\u001b[1;32m    621\u001b[0m         \u001b[0;32mfor\u001b[0m \u001b[0mdataset\u001b[0m \u001b[0;32min\u001b[0m \u001b[0mself\u001b[0m\u001b[0;34m.\u001b[0m\u001b[0mdata\u001b[0m\u001b[0;34m:\u001b[0m\u001b[0;34m\u001b[0m\u001b[0;34m\u001b[0m\u001b[0m\n\u001b[0;32m--> 622\u001b[0;31m             \u001b[0mdata\u001b[0m\u001b[0;34m.\u001b[0m\u001b[0mextend\u001b[0m\u001b[0;34m(\u001b[0m\u001b[0mto_list\u001b[0m\u001b[0;34m(\u001b[0m\u001b[0mdataset\u001b[0m\u001b[0;34m[\u001b[0m\u001b[0mindex\u001b[0m\u001b[0;34m]\u001b[0m\u001b[0;34m)\u001b[0m\u001b[0;34m)\u001b[0m\u001b[0;34m\u001b[0m\u001b[0;34m\u001b[0m\u001b[0m\n\u001b[0m\u001b[1;32m    623\u001b[0m         \u001b[0;32mif\u001b[0m \u001b[0mself\u001b[0m\u001b[0;34m.\u001b[0m\u001b[0mtransform\u001b[0m \u001b[0;32mis\u001b[0m \u001b[0;32mnot\u001b[0m \u001b[0;32mNone\u001b[0m\u001b[0;34m:\u001b[0m\u001b[0;34m\u001b[0m\u001b[0;34m\u001b[0m\u001b[0m\n\u001b[1;32m    624\u001b[0m             \u001b[0mdata\u001b[0m \u001b[0;34m=\u001b[0m \u001b[0mapply_transform\u001b[0m\u001b[0;34m(\u001b[0m\u001b[0mself\u001b[0m\u001b[0;34m.\u001b[0m\u001b[0mtransform\u001b[0m\u001b[0;34m,\u001b[0m \u001b[0mdata\u001b[0m\u001b[0;34m,\u001b[0m \u001b[0mmap_items\u001b[0m\u001b[0;34m=\u001b[0m\u001b[0;32mFalse\u001b[0m\u001b[0;34m)\u001b[0m  \u001b[0;31m# transform the list data\u001b[0m\u001b[0;34m\u001b[0m\u001b[0;34m\u001b[0m\u001b[0m\n",
      "\u001b[0;32m/workspace/CustomPatchDataset.py\u001b[0m in \u001b[0;36m__getitem__\u001b[0;34m(self, index)\u001b[0m\n\u001b[1;32m    138\u001b[0m \u001b[0;34m\u001b[0m\u001b[0m\n\u001b[1;32m    139\u001b[0m         \u001b[0;32mif\u001b[0m \u001b[0mself\u001b[0m\u001b[0;34m.\u001b[0m\u001b[0mtransform\u001b[0m \u001b[0;32mis\u001b[0m \u001b[0;32mnot\u001b[0m \u001b[0;32mNone\u001b[0m\u001b[0;34m:\u001b[0m\u001b[0;34m\u001b[0m\u001b[0;34m\u001b[0m\u001b[0m\n\u001b[0;32m--> 140\u001b[0;31m             \u001b[0mimage\u001b[0m \u001b[0;34m=\u001b[0m \u001b[0mapply_transform\u001b[0m\u001b[0;34m(\u001b[0m\u001b[0mself\u001b[0m\u001b[0;34m.\u001b[0m\u001b[0mtransform\u001b[0m\u001b[0;34m,\u001b[0m \u001b[0mimage\u001b[0m\u001b[0;34m,\u001b[0m \u001b[0mmap_items\u001b[0m\u001b[0;34m=\u001b[0m\u001b[0;32mFalse\u001b[0m\u001b[0;34m)\u001b[0m\u001b[0;34m\u001b[0m\u001b[0;34m\u001b[0m\u001b[0m\n\u001b[0m\u001b[1;32m    141\u001b[0m \u001b[0;34m\u001b[0m\u001b[0m\n\u001b[1;32m    142\u001b[0m         \u001b[0mpatches\u001b[0m \u001b[0;34m=\u001b[0m \u001b[0mself\u001b[0m\u001b[0;34m.\u001b[0m\u001b[0mpatch_func\u001b[0m\u001b[0;34m(\u001b[0m\u001b[0mimage\u001b[0m\u001b[0;34m)\u001b[0m\u001b[0;34m\u001b[0m\u001b[0;34m\u001b[0m\u001b[0m\n",
      "\u001b[0;32m/opt/conda/lib/python3.6/site-packages/monai/transforms/utils.py\u001b[0m in \u001b[0;36mapply_transform\u001b[0;34m(transform, data, map_items)\u001b[0m\n\u001b[1;32m    307\u001b[0m         \u001b[0;32mif\u001b[0m \u001b[0misinstance\u001b[0m\u001b[0;34m(\u001b[0m\u001b[0mdata\u001b[0m\u001b[0;34m,\u001b[0m \u001b[0;34m(\u001b[0m\u001b[0mlist\u001b[0m\u001b[0;34m,\u001b[0m \u001b[0mtuple\u001b[0m\u001b[0;34m)\u001b[0m\u001b[0;34m)\u001b[0m \u001b[0;32mand\u001b[0m \u001b[0mmap_items\u001b[0m\u001b[0;34m:\u001b[0m\u001b[0;34m\u001b[0m\u001b[0;34m\u001b[0m\u001b[0m\n\u001b[1;32m    308\u001b[0m             \u001b[0;32mreturn\u001b[0m \u001b[0;34m[\u001b[0m\u001b[0mtransform\u001b[0m\u001b[0;34m(\u001b[0m\u001b[0mitem\u001b[0m\u001b[0;34m)\u001b[0m \u001b[0;32mfor\u001b[0m \u001b[0mitem\u001b[0m \u001b[0;32min\u001b[0m \u001b[0mdata\u001b[0m\u001b[0;34m]\u001b[0m\u001b[0;34m\u001b[0m\u001b[0;34m\u001b[0m\u001b[0m\n\u001b[0;32m--> 309\u001b[0;31m         \u001b[0;32mreturn\u001b[0m \u001b[0mtransform\u001b[0m\u001b[0;34m(\u001b[0m\u001b[0mdata\u001b[0m\u001b[0;34m)\u001b[0m\u001b[0;34m\u001b[0m\u001b[0;34m\u001b[0m\u001b[0m\n\u001b[0m\u001b[1;32m    310\u001b[0m     \u001b[0;32mexcept\u001b[0m \u001b[0mException\u001b[0m \u001b[0;32mas\u001b[0m \u001b[0me\u001b[0m\u001b[0;34m:\u001b[0m\u001b[0;34m\u001b[0m\u001b[0;34m\u001b[0m\u001b[0m\n\u001b[1;32m    311\u001b[0m         \u001b[0;32mraise\u001b[0m \u001b[0mtype\u001b[0m\u001b[0;34m(\u001b[0m\u001b[0me\u001b[0m\u001b[0;34m)\u001b[0m\u001b[0;34m(\u001b[0m\u001b[0;34mf\"Applying transform {transform}.\"\u001b[0m\u001b[0;34m)\u001b[0m\u001b[0;34m.\u001b[0m\u001b[0mwith_traceback\u001b[0m\u001b[0;34m(\u001b[0m\u001b[0me\u001b[0m\u001b[0;34m.\u001b[0m\u001b[0m__traceback__\u001b[0m\u001b[0;34m)\u001b[0m\u001b[0;34m\u001b[0m\u001b[0;34m\u001b[0m\u001b[0m\n",
      "\u001b[0;32m/workspace/utils.py\u001b[0m in \u001b[0;36m__call__\u001b[0;34m(self, input_)\u001b[0m\n\u001b[1;32m     17\u001b[0m         \u001b[0mvol\u001b[0m \u001b[0;34m=\u001b[0m \u001b[0mself\u001b[0m\u001b[0;34m.\u001b[0m\u001b[0mtransforms\u001b[0m\u001b[0;34m[\u001b[0m\u001b[0;36m0\u001b[0m\u001b[0;34m]\u001b[0m\u001b[0;34m(\u001b[0m\u001b[0minput_\u001b[0m\u001b[0;34m)\u001b[0m\u001b[0;34m\u001b[0m\u001b[0;34m\u001b[0m\u001b[0m\n\u001b[1;32m     18\u001b[0m         \u001b[0;31m#vol = vol.astype(int)\u001b[0m\u001b[0;34m\u001b[0m\u001b[0;34m\u001b[0m\u001b[0;34m\u001b[0m\u001b[0m\n\u001b[0;32m---> 19\u001b[0;31m         \u001b[0mvol\u001b[0m \u001b[0;34m=\u001b[0m \u001b[0;34m(\u001b[0m\u001b[0mnp\u001b[0m\u001b[0;34m.\u001b[0m\u001b[0mlog10\u001b[0m\u001b[0;34m(\u001b[0m\u001b[0;36m1\u001b[0m \u001b[0;34m+\u001b[0m \u001b[0mvol\u001b[0m\u001b[0;34m)\u001b[0m \u001b[0;34m-\u001b[0m \u001b[0;36m5.5\u001b[0m\u001b[0;34m)\u001b[0m\u001b[0;34m/\u001b[0m\u001b[0;36m5.5\u001b[0m\u001b[0;34m\u001b[0m\u001b[0;34m\u001b[0m\u001b[0m\n\u001b[0m\u001b[1;32m     20\u001b[0m         \u001b[0;31m# add channel\u001b[0m\u001b[0;34m\u001b[0m\u001b[0;34m\u001b[0m\u001b[0;34m\u001b[0m\u001b[0m\n\u001b[1;32m     21\u001b[0m         \u001b[0mvol\u001b[0m \u001b[0;34m=\u001b[0m \u001b[0mself\u001b[0m\u001b[0;34m.\u001b[0m\u001b[0mtransforms\u001b[0m\u001b[0;34m[\u001b[0m\u001b[0;36m1\u001b[0m\u001b[0;34m]\u001b[0m\u001b[0;34m(\u001b[0m\u001b[0mvol\u001b[0m\u001b[0;34m)\u001b[0m\u001b[0;34m\u001b[0m\u001b[0;34m\u001b[0m\u001b[0m\n",
      "\u001b[0;31mKeyboardInterrupt\u001b[0m: "
     ]
    }
   ],
   "source": [
    "if num_epochs_G is not None:\n",
    "    print(f'pre-training Generator for {num_epochs_G} epochs')\n",
    "    save_gene = pd.DataFrame(columns=['TotalLoss', 'lossC01', 'lossC02', 'lossC03'])\n",
    "\n",
    "    for epoch in range(1, num_epochs_G + 1):\n",
    "        pretrainedG_losses = []\n",
    "        lossC01s = []\n",
    "        lossC02s = []\n",
    "        lossC03s = []\n",
    "\n",
    "        netG.train()\n",
    "\n",
    "        for batch_index, batch in enumerate(tqdm(training_loader)):\n",
    "            inputZ01, inputZ02, inputZ03, inputZ04, inputZ05, inputZ06, inputZ07 = \\\n",
    "                batch[0].to(device), batch[1].to(device), batch[2].to(device), \\\n",
    "                batch[3].to(device), batch[4].to(device), batch[5].to(device), batch[6].to(device)\n",
    "            targetC01, targetC02, targetC03 = batch[7].to(device), batch[8].to(device), batch[9].to(device)\n",
    "\n",
    "#             print('input size :' + str(inputZ01.size()))\n",
    "#             print('target size :' + str(targetC01.size()))\n",
    "\n",
    "            netG.zero_grad()\n",
    "\n",
    "            outputC01, outputC02, outputC03 = netG(inputZ01, inputZ02, inputZ03, inputZ04, inputZ05, inputZ06, inputZ07)\n",
    "\n",
    "            # with autograd.detect_anomaly():\n",
    "            loss01 = mseloss(outputC01, targetC01)\n",
    "            loss02 = mseloss(outputC01, targetC01)\n",
    "            loss03 = mseloss(outputC01, targetC01)\n",
    "\n",
    "            loss_gene = loss01 + loss02 + loss03\n",
    "            loss_gene.backward()\n",
    "            optimizerG.step()\n",
    "\n",
    "            pretrainedG_losses.append(loss_gene.detach().item())\n",
    "            lossC01s.append(loss01.detach().item())\n",
    "            lossC02s.append(loss02.detach().item())\n",
    "            lossC03s.append(loss03.detach().item())\n",
    "\n",
    "        epoch_loss = np.array(pretrainedG_losses).mean()\n",
    "        epoch_lossC01 = np.array(lossC01s).mean()\n",
    "        epoch_lossC02 = np.array(lossC02s).mean()\n",
    "        epoch_lossC03 = np.array(lossC03s).mean()\n",
    "\n",
    "        print(f'Pre-training Generator - Epoch {epoch}/{num_epochs} loss: {epoch_loss}, loss01: {epoch_lossC01}, loss02: {epoch_lossC02}, loss03: {epoch_lossC03}')\n",
    "        save_gene = save_gene.append({'TotalLoss': epoch_loss, 'lossC01': epoch_lossC01, 'lossC02': epoch_lossC02, 'lossC03': epoch_lossC03}, ignore_index=True)\n",
    "        save_gene.to_csv(os.path.join(loss_dir, 'generator_loss_info.csv'))\n",
    "\n",
    "        # save model parameters\n",
    "        weight = f'pretrained_G_epoch_{epoch}.pth'\n",
    "        torch.save(netG.state_dict(), os.path.join(save_weight_dir, weight))\n",
    "        torch.save({'epoch': epoch,\n",
    "                    'model_state_dict': netG.state_dict(),\n",
    "                    'optimizer_state_dict': optimizerG.state_dict(),\n",
    "                    'loss': epoch_loss}, os.path.join(save_weight_dir, weight))"
   ]
  },
  {
   "cell_type": "code",
   "execution_count": null,
   "metadata": {},
   "outputs": [],
   "source": [
    "if num_epochs_G is not None:\n",
    "    print(f'Loading weights from pretrained generator')\n",
    "    finalweight = f'pretrained_G_epoch_{num_epochs_G}.pth'\n",
    "    checkpoint = torch.load(os.path.join(save_weight_dir, finalweight))\n",
    "    netG.load_state_dict(checkpoint['model_state_dict'])\n",
    "    optimizerG.load_state_dict(checkpoint['optimizer_state_dict'])\n",
    "    init_epoch = checkpoint['epoch']\n",
    "    loss = checkpoint['loss']\n",
    "else:\n",
    "    pass\n",
    "\n",
    "\n",
    "if num_epochs_G is not None:\n",
    "    init_epoch = num_epochs_G + 1\n",
    "    num_epochs = num_epochs + num_epochs_G\n",
    "else:\n",
    "    num_epochs = num_epochs\n",
    "    \n",
    "    if load_weight_dir is None:\n",
    "        init_epoch = 1\n",
    "    else:\n",
    "        init_epoch = init_epoch\n",
    "        num_epochs = num_epochs + init_epoch\n",
    "\n"
   ]
  },
  {
   "cell_type": "code",
   "execution_count": null,
   "metadata": {},
   "outputs": [],
   "source": [
    "save_gan_train = pd.DataFrame(columns=['TotalLoss', 'lossC01', 'lossC02', 'lossC03'])\n",
    "save_gan_val = pd.DataFrame(columns=['TotalLoss', 'lossC01', 'lossC02', 'lossC03'])"
   ]
  },
  {
   "cell_type": "code",
   "execution_count": null,
   "metadata": {},
   "outputs": [],
   "source": [
    "%tensorboard --logdir {log_dir}"
   ]
  },
  {
   "cell_type": "code",
   "execution_count": null,
   "metadata": {},
   "outputs": [],
   "source": [
    "for epoch in range(init_epoch, num_epochs + 1):\n",
    "    print(f'Epoch : [{epoch} / {num_epochs}]')\n",
    "    netG.train()\n",
    "    G_losses = []\n",
    "    D_losses = []\n",
    "\n",
    "    lossC01s = []\n",
    "    lossC02s = []\n",
    "    lossC03s = []\n",
    "\n",
    "    for batch_index, batch in enumerate(tqdm(training_loader)):\n",
    "        inputZ01, inputZ02, inputZ03, inputZ04, inputZ05, inputZ06, inputZ07 = \\\n",
    "            batch[0].to(device), batch[1].to(device), batch[2].to(device),\\\n",
    "            batch[3].to(device), batch[4].to(device), batch[5].to(device), batch[6].to(device)\n",
    "        targetC01, targetC02, targetC03 = batch[7].to(device), batch[8].to(device), batch[9].to(device)\n",
    "        \n",
    "        shape = inputZ01.size()\n",
    "        real_label = torch.ones((shape[0])).to(device)\n",
    "        fake_label = torch.zeros((shape[0])).to(device)\n",
    "\n",
    "        ###############################################################\n",
    "        # First train discriminator network : maximize D(x)-1-D(G(z)) #\n",
    "        ###############################################################\n",
    "\n",
    "        netD.zero_grad()\n",
    "        \n",
    "        outputC01, outputC02, outputC03 = netG(inputZ01, inputZ02, inputZ03, inputZ04, inputZ05, inputZ06, inputZ07)\n",
    "        \n",
    "        targetCs = torch.cat((targetC01, targetC02, targetC03), dim=1)\n",
    "        realCs_prob = netD(targetCs)\n",
    "        \n",
    "        outputCs = torch.cat((outputC01, outputC02, outputC03), dim=1)\n",
    "        fakeCs_prob = netD(outputCs)\n",
    "        \n",
    "        # print(realC01_prob.size())\n",
    "        # print(real_label.size())\n",
    "        \n",
    "        d_loss_real = bceloss(realCs_prob, real_label)\n",
    "        #bceloss(realC01_prob, real_label) + bceloss(realC02_prob, real_label) + bceloss(realC03_prob, real_label)\n",
    "        d_loss_fake = bceloss(fakeCs_prob, fake_label)\n",
    "        #bceloss(fakeC01_prob, fake_label) + bceloss(fakeC02_prob, fake_label) + bceloss(fakeC03_prob, fake_label)\n",
    "\n",
    "        d_loss = d_loss_real + d_loss_fake\n",
    "\n",
    "        d_loss.backward()\n",
    "        optimizerD.step()\n",
    "\n",
    "        D_losses.append(d_loss.item())\n",
    "\n",
    "        #################################################################\n",
    "        # Now train Generator network                                   #\n",
    "        # option 1 (mode='MSE') : minimize mseloss + 10^-3 * -logD(G(z))#\n",
    "        # option 2 (mode='VGG') : minimize vggloss + 10^-3 * -logD(G(z))#\n",
    "        #################################################################\n",
    "        netG.zero_grad()\n",
    "\n",
    "        outputC01, outputC02, outputC03 = netG(inputZ01, inputZ02, inputZ03, inputZ04, inputZ05, inputZ06, inputZ07)\n",
    "\n",
    "        if mode == 'MSE':\n",
    "            lossC01 = mseloss(outputC01, targetC01)\n",
    "            lossC02 = mseloss(outputC02, targetC02)\n",
    "            lossC03 = mseloss(outputC03, targetC03)\n",
    "            content_loss = lossC01 + lossC02 + lossC03\n",
    "\n",
    "        if mode == 'VGG':\n",
    "            lossC01 = vggloss(outputC01, targetC01)\n",
    "            lossC02 = vggloss(outputC02, targetC02)\n",
    "            lossC03 = vggloss(outputC03, targetC03)\n",
    "            content_loss = lossC01 + lossC02 + lossC03\n",
    "        \n",
    "        outputCs = torch.cat((outputC01, outputC02, outputC03), dim=1)\n",
    "        fakeCs_prob = netD(outputCs)\n",
    "        \n",
    "        adversarial_loss = bceloss(fakeCs_prob, real_label)\n",
    "\n",
    "        # adversarial_loss = bceloss(netD(outputC01), real_label) + bceloss(netD(outputC02), real_label) + bceloss(netD(outputC03), real_label)\n",
    "        # can try bce loss on bceloss(outputC1-3, targetC1-3)\n",
    "\n",
    "        g_loss = content_loss + 1e-3 * adversarial_loss\n",
    "\n",
    "        g_loss.backward()\n",
    "        optimizerG.step()\n",
    "\n",
    "        G_losses.append(g_loss.detach().item())\n",
    "        lossC01s.append(lossC01.detach().item())\n",
    "        lossC02s.append(lossC02.detach().item())\n",
    "        lossC03s.append(lossC03.detach().item())\n",
    "\n",
    "\n",
    "        # log to tensorboard every 10 steps\n",
    "        if batch_index % 1 == 0:\n",
    "            writer.add_scalar('Train/G_loss', g_loss.item(), epoch)\n",
    "            writer.add_scalar('Train/D_loss', d_loss.item(), epoch)\n",
    "            #plot_2d_or_3d_image(targetC01, epoch * len(training_loader) + batch_index, writer, index=0, tag=\"Groundtruth_train/C01\")\n",
    "            #plot_2d_or_3d_image(targetC02, epoch * len(training_loader) + batch_index, writer, index=0, tag=\"Groundtruth_train/C01\")\n",
    "            #plot_2d_or_3d_image(targetC03, epoch * len(training_loader) + batch_index, writer, index=0, tag=\"Groundtruth_train/C01\")\n",
    "            #plot_2d_or_3d_image(outputC01, epoch * len(training_loader) + batch_index, writer, index=0, tag=\"Train/C01\")\n",
    "            #plot_2d_or_3d_image(outputC02, epoch * len(training_loader) + batch_index, writer, index=0, tag=\"Train/C01\")\n",
    "            #plot_2d_or_3d_image(outputC03, epoch * len(training_loader) + batch_index, writer, index=0, tag=\"Train/C01\")\n",
    "\n",
    "    if epoch % 1 == 0:\n",
    "        writer.add_images('Groundtruth_train/C01', targetC01, epoch)\n",
    "        writer.add_images('Groundtruth_train/C02', targetC02, epoch)\n",
    "        writer.add_images('Groundtruth_train/C03', targetC03, epoch)\n",
    "        writer.add_images('train/C01', outputC01, epoch)\n",
    "        writer.add_images('train/C02', outputC02, epoch)\n",
    "        writer.add_images('train/C03', outputC03, epoch)\n",
    "    \n",
    "    G_loss = np.array(G_losses).mean()\n",
    "    D_loss = np.array(D_losses).mean()\n",
    "    epoch_lossC01 = np.array(lossC01s).mean()\n",
    "    epoch_lossC02 = np.array(lossC02s).mean()\n",
    "    epoch_lossC03 = np.array(lossC03s).mean()\n",
    "\n",
    "    save_gan_train = save_gan_train.append(\n",
    "        {'TotalLoss': G_loss, 'lossC01': epoch_lossC01, 'lossC02': epoch_lossC02, 'lossC03': epoch_lossC03},\n",
    "        ignore_index=True)\n",
    "    save_gan_train.to_csv(os.path.join(loss_dir, 'gan_train_loss_info.csv'))\n",
    "\n",
    "    print(f'Epoch {epoch}/{num_epochs} Training g_loss : {G_loss}, d_loss : {D_loss}')\n",
    "\n",
    "    ################################################################################################################\n",
    "    # Validation\n",
    "    netG.eval()\n",
    "\n",
    "    val_G_losses = []\n",
    "    val_lossC01s = []\n",
    "    val_lossC02s = []\n",
    "    val_lossC03s = []\n",
    "\n",
    "    with torch.no_grad():\n",
    "        val_bar = tqdm(validation_loader)\n",
    "        for batch_index, batch in enumerate(tqdm(training_loader)):\n",
    "            inputZ01, inputZ02, inputZ03, inputZ04, inputZ05, inputZ06, inputZ07 = \\\n",
    "                batch[0].to(device), batch[1].to(device), batch[2].to(device), \\\n",
    "                batch[3].to(device), batch[4].to(device), batch[5].to(device), batch[6].to(device)\n",
    "            targetC01, targetC02, targetC03 = batch[7].to(device), batch[8].to(device), batch[9].to(device)\n",
    "            \n",
    "            shape = inputZ01.size()\n",
    "            real_label = torch.ones((shape[0])).to(device)\n",
    "            fake_label = torch.zeros((shape[0])).to(device)\n",
    "\n",
    "            outputC01, outputC02, outputC03 = netG(inputZ01, inputZ02, inputZ03, inputZ04, inputZ05, inputZ06, inputZ07)\n",
    "\n",
    "            if mode == 'MSE':\n",
    "                lossC01 = mseloss(outputC01, targetC01)\n",
    "                lossC02 = mseloss(outputC02, targetC02)\n",
    "                lossC03 = mseloss(outputC03, targetC03)\n",
    "                content_loss = lossC01 + lossC02 + lossC03\n",
    "\n",
    "            if mode == 'VGG':\n",
    "                lossC01 = vggloss(outputC01, targetC01)\n",
    "                lossC02 = vggloss(outputC02, targetC02)\n",
    "                lossC03 = vggloss(outputC03, targetC03)\n",
    "                content_loss = lossC01 + lossC02 + lossC03\n",
    "            \n",
    "            outputCs = torch.cat((outputC01, outputC02, outputC03), dim=1)\n",
    "            fakeCs_prob = netD(outputCs)\n",
    "            \n",
    "            adversarial_loss = bceloss(fakeCs_prob, real_label)\n",
    "            \n",
    "            # adversarial_loss = bceloss(netD(outputC01), real_label) + bceloss(netD(outputC02), real_label) + bceloss(netD(outputC03), real_label)\n",
    "\n",
    "            val_g_loss = content_loss + 1e-3 * adversarial_loss\n",
    "\n",
    "            val_G_losses.append(val_g_loss.detach().item())\n",
    "            val_lossC01s.append(lossC01.detach().item())\n",
    "            val_lossC02s.append(lossC02.detach().item())\n",
    "            val_lossC03s.append(lossC03.detach().item())\n",
    "\n",
    "\n",
    "            # log to tensorboard every 10 steps\n",
    "            if batch_index % 1 == 0:\n",
    "                writer.add_scalar('Train/G_loss', val_g_loss.item(), epoch)\n",
    "                #plot_2d_or_3d_image(targetC01, epoch * len(training_loader) + batch_index, writer, index=0, tag=\"Groundtruth_val/C01\")\n",
    "                #plot_2d_or_3d_image(targetC02, epoch * len(training_loader) + batch_index, writer, index=0, tag=\"Groundtruth_val/C01\")\n",
    "                #plot_2d_or_3d_image(targetC03, epoch * len(training_loader) + batch_index, writer, index=0, tag=\"Groundtruth_val/C01\")\n",
    "                #plot_2d_or_3d_image(outputC01, epoch * len(training_loader) + batch_index, writer, index=0, tag=\"Val/C01\")\n",
    "                #plot_2d_or_3d_image(outputC02, epoch * len(training_loader) + batch_index, writer, index=0, tag=\"Val/C01\")\n",
    "                #plot_2d_or_3d_image(outputC03, epoch * len(training_loader) + batch_index, writer, index=0, tag=\"Val/C01\")\n",
    "\n",
    "    if epoch % 1 == 0:\n",
    "            writer.add_images('Groundtruth_val/C01', targetC01, epoch)\n",
    "            writer.add_images('Groundtruth_val/C02', targetC02, epoch)\n",
    "            writer.add_images('Groundtruth_val/C03', targetC03, epoch)\n",
    "            writer.add_images('val/C01', outputC01, epoch)\n",
    "            writer.add_images('val/C02', outputC02, epoch)\n",
    "            writer.add_images('val/C03', outputC03, epoch)\n",
    "    \n",
    "    val_G_loss = np.array(val_G_losses).mean()\n",
    "    val_epoch_lossC01 = np.array(val_lossC01s).mean()\n",
    "    val_epoch_lossC02 = np.array(val_lossC02s).mean()\n",
    "    val_epoch_lossC03 = np.array(val_lossC03s).mean()\n",
    "\n",
    "    save_gan_val = save_gan_val.append(\n",
    "        {'TotalLoss': val_G_loss, 'lossC01': val_epoch_lossC01, 'lossC02': val_epoch_lossC02, 'lossC03': val_epoch_lossC03},\n",
    "        ignore_index=True)\n",
    "    save_gan_val.to_csv(os.path.join(loss_dir, 'gan_val_loss_info.csv'))\n",
    "\n",
    "    print(f'Epoch {epoch}/{num_epochs} Validation g_loss : {val_G_loss}')\n",
    "\n",
    "    # now save model parameter (from training)\n",
    "    weight_g = f'G_epoch_{epoch}.pth'\n",
    "    torch.save({'epoch': epoch,\n",
    "                'model_state_dict': netG.state_dict(),\n",
    "                'optimizer_state_dict': optimizerG.state_dict(),\n",
    "                'loss': G_loss}, os.path.join(save_weight_dir, weight_g))"
   ]
  },
  {
   "cell_type": "code",
   "execution_count": null,
   "metadata": {},
   "outputs": [],
   "source": []
  }
 ],
 "metadata": {
  "kernelspec": {
   "display_name": "Python 3",
   "language": "python",
   "name": "python3"
  },
  "language_info": {
   "codemirror_mode": {
    "name": "ipython",
    "version": 3
   },
   "file_extension": ".py",
   "mimetype": "text/x-python",
   "name": "python",
   "nbconvert_exporter": "python",
   "pygments_lexer": "ipython3",
   "version": "3.6.10"
  }
 },
 "nbformat": 4,
 "nbformat_minor": 4
}
